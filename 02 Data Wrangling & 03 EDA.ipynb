{
 "cells": [
  {
   "cell_type": "markdown",
   "id": "e32ea798",
   "metadata": {},
   "source": [
    "# 02 Data Wrangling"
   ]
  },
  {
   "cell_type": "markdown",
   "id": "52695f85",
   "metadata": {},
   "source": [
    "Cyber Threat Dataset: Network, Text & Relation\n",
    "\n",
    "Source - https://www.kaggle.com/datasets/ramoliyafenil/text-based-cyber-threat-detection"
   ]
  },
  {
   "cell_type": "code",
   "execution_count": 1,
   "id": "269a56b2",
   "metadata": {},
   "outputs": [],
   "source": [
    "import pandas as pd\n",
    "import numpy as np\n",
    "import matplotlib.pyplot as plt\n",
    "import seaborn as sns"
   ]
  },
  {
   "cell_type": "markdown",
   "id": "3bd4998a",
   "metadata": {},
   "source": [
    "## Load Data"
   ]
  },
  {
   "cell_type": "code",
   "execution_count": 2,
   "id": "0e7abcef",
   "metadata": {},
   "outputs": [],
   "source": [
    "df = pd.read_csv(\"cyber-threat-intelligence_all.csv\")"
   ]
  },
  {
   "cell_type": "code",
   "execution_count": 3,
   "id": "908f58bd",
   "metadata": {},
   "outputs": [
    {
     "data": {
      "text/html": [
       "<div>\n",
       "<style scoped>\n",
       "    .dataframe tbody tr th:only-of-type {\n",
       "        vertical-align: middle;\n",
       "    }\n",
       "\n",
       "    .dataframe tbody tr th {\n",
       "        vertical-align: top;\n",
       "    }\n",
       "\n",
       "    .dataframe thead th {\n",
       "        text-align: right;\n",
       "    }\n",
       "</style>\n",
       "<table border=\"1\" class=\"dataframe\">\n",
       "  <thead>\n",
       "    <tr style=\"text-align: right;\">\n",
       "      <th></th>\n",
       "      <th>Unnamed: 0</th>\n",
       "      <th>index</th>\n",
       "      <th>text</th>\n",
       "      <th>entities</th>\n",
       "      <th>relations</th>\n",
       "      <th>Comments</th>\n",
       "      <th>id</th>\n",
       "      <th>label</th>\n",
       "      <th>start_offset</th>\n",
       "      <th>end_offset</th>\n",
       "    </tr>\n",
       "  </thead>\n",
       "  <tbody>\n",
       "    <tr>\n",
       "      <th>0</th>\n",
       "      <td>0</td>\n",
       "      <td>1.0</td>\n",
       "      <td>This post is also available in:      日本語 (Japa...</td>\n",
       "      <td>[{'id': 45800, 'label': 'malware', 'start_offs...</td>\n",
       "      <td>[]</td>\n",
       "      <td>[]</td>\n",
       "      <td>45800.0</td>\n",
       "      <td>malware</td>\n",
       "      <td>288.0</td>\n",
       "      <td>300.0</td>\n",
       "    </tr>\n",
       "    <tr>\n",
       "      <th>1</th>\n",
       "      <td>1</td>\n",
       "      <td>2.0</td>\n",
       "      <td>The attack vector is very basic and repeats it...</td>\n",
       "      <td>[{'id': 48941, 'label': 'attack-pattern', 'sta...</td>\n",
       "      <td>[]</td>\n",
       "      <td>[]</td>\n",
       "      <td>48941.0</td>\n",
       "      <td>attack-pattern</td>\n",
       "      <td>69.0</td>\n",
       "      <td>115.0</td>\n",
       "    </tr>\n",
       "    <tr>\n",
       "      <th>2</th>\n",
       "      <td>2</td>\n",
       "      <td>3.0</td>\n",
       "      <td>Once executed by the user the first stage malw...</td>\n",
       "      <td>[]</td>\n",
       "      <td>[]</td>\n",
       "      <td>[]</td>\n",
       "      <td>NaN</td>\n",
       "      <td>NaN</td>\n",
       "      <td>NaN</td>\n",
       "      <td>NaN</td>\n",
       "    </tr>\n",
       "    <tr>\n",
       "      <th>3</th>\n",
       "      <td>3</td>\n",
       "      <td>4.0</td>\n",
       "      <td>The first known campaign was launched by Crim...</td>\n",
       "      <td>[{'id': 45806, 'label': 'TIME', 'start_offset'...</td>\n",
       "      <td>[]</td>\n",
       "      <td>[]</td>\n",
       "      <td>45806.0</td>\n",
       "      <td>TIME</td>\n",
       "      <td>55.0</td>\n",
       "      <td>68.0</td>\n",
       "    </tr>\n",
       "    <tr>\n",
       "      <th>4</th>\n",
       "      <td>4</td>\n",
       "      <td>5.0</td>\n",
       "      <td>The first stage downloaded the ransomware from...</td>\n",
       "      <td>[]</td>\n",
       "      <td>[]</td>\n",
       "      <td>[]</td>\n",
       "      <td>NaN</td>\n",
       "      <td>NaN</td>\n",
       "      <td>NaN</td>\n",
       "      <td>NaN</td>\n",
       "    </tr>\n",
       "  </tbody>\n",
       "</table>\n",
       "</div>"
      ],
      "text/plain": [
       "   Unnamed: 0  index                                               text  \\\n",
       "0           0    1.0  This post is also available in:      日本語 (Japa...   \n",
       "1           1    2.0  The attack vector is very basic and repeats it...   \n",
       "2           2    3.0  Once executed by the user the first stage malw...   \n",
       "3           3    4.0   The first known campaign was launched by Crim...   \n",
       "4           4    5.0  The first stage downloaded the ransomware from...   \n",
       "\n",
       "                                            entities relations Comments  \\\n",
       "0  [{'id': 45800, 'label': 'malware', 'start_offs...        []       []   \n",
       "1  [{'id': 48941, 'label': 'attack-pattern', 'sta...        []       []   \n",
       "2                                                 []        []       []   \n",
       "3  [{'id': 45806, 'label': 'TIME', 'start_offset'...        []       []   \n",
       "4                                                 []        []       []   \n",
       "\n",
       "        id           label  start_offset  end_offset  \n",
       "0  45800.0         malware         288.0       300.0  \n",
       "1  48941.0  attack-pattern          69.0       115.0  \n",
       "2      NaN             NaN           NaN         NaN  \n",
       "3  45806.0            TIME          55.0        68.0  \n",
       "4      NaN             NaN           NaN         NaN  "
      ]
     },
     "execution_count": 3,
     "metadata": {},
     "output_type": "execute_result"
    }
   ],
   "source": [
    "df.head()"
   ]
  },
  {
   "cell_type": "markdown",
   "id": "326f5cc9",
   "metadata": {},
   "source": [
    "Drop the Unnamed:0 column"
   ]
  },
  {
   "cell_type": "code",
   "execution_count": 4,
   "id": "16d2ed81",
   "metadata": {},
   "outputs": [],
   "source": [
    "df = df.drop(df.columns[0], axis=1)"
   ]
  },
  {
   "cell_type": "code",
   "execution_count": 5,
   "id": "180d7923",
   "metadata": {},
   "outputs": [
    {
     "data": {
      "text/html": [
       "<div>\n",
       "<style scoped>\n",
       "    .dataframe tbody tr th:only-of-type {\n",
       "        vertical-align: middle;\n",
       "    }\n",
       "\n",
       "    .dataframe tbody tr th {\n",
       "        vertical-align: top;\n",
       "    }\n",
       "\n",
       "    .dataframe thead th {\n",
       "        text-align: right;\n",
       "    }\n",
       "</style>\n",
       "<table border=\"1\" class=\"dataframe\">\n",
       "  <thead>\n",
       "    <tr style=\"text-align: right;\">\n",
       "      <th></th>\n",
       "      <th>index</th>\n",
       "      <th>text</th>\n",
       "      <th>entities</th>\n",
       "      <th>relations</th>\n",
       "      <th>Comments</th>\n",
       "      <th>id</th>\n",
       "      <th>label</th>\n",
       "      <th>start_offset</th>\n",
       "      <th>end_offset</th>\n",
       "    </tr>\n",
       "  </thead>\n",
       "  <tbody>\n",
       "    <tr>\n",
       "      <th>0</th>\n",
       "      <td>1.0</td>\n",
       "      <td>This post is also available in:      日本語 (Japa...</td>\n",
       "      <td>[{'id': 45800, 'label': 'malware', 'start_offs...</td>\n",
       "      <td>[]</td>\n",
       "      <td>[]</td>\n",
       "      <td>45800.0</td>\n",
       "      <td>malware</td>\n",
       "      <td>288.0</td>\n",
       "      <td>300.0</td>\n",
       "    </tr>\n",
       "    <tr>\n",
       "      <th>1</th>\n",
       "      <td>2.0</td>\n",
       "      <td>The attack vector is very basic and repeats it...</td>\n",
       "      <td>[{'id': 48941, 'label': 'attack-pattern', 'sta...</td>\n",
       "      <td>[]</td>\n",
       "      <td>[]</td>\n",
       "      <td>48941.0</td>\n",
       "      <td>attack-pattern</td>\n",
       "      <td>69.0</td>\n",
       "      <td>115.0</td>\n",
       "    </tr>\n",
       "    <tr>\n",
       "      <th>2</th>\n",
       "      <td>3.0</td>\n",
       "      <td>Once executed by the user the first stage malw...</td>\n",
       "      <td>[]</td>\n",
       "      <td>[]</td>\n",
       "      <td>[]</td>\n",
       "      <td>NaN</td>\n",
       "      <td>NaN</td>\n",
       "      <td>NaN</td>\n",
       "      <td>NaN</td>\n",
       "    </tr>\n",
       "    <tr>\n",
       "      <th>3</th>\n",
       "      <td>4.0</td>\n",
       "      <td>The first known campaign was launched by Crim...</td>\n",
       "      <td>[{'id': 45806, 'label': 'TIME', 'start_offset'...</td>\n",
       "      <td>[]</td>\n",
       "      <td>[]</td>\n",
       "      <td>45806.0</td>\n",
       "      <td>TIME</td>\n",
       "      <td>55.0</td>\n",
       "      <td>68.0</td>\n",
       "    </tr>\n",
       "    <tr>\n",
       "      <th>4</th>\n",
       "      <td>5.0</td>\n",
       "      <td>The first stage downloaded the ransomware from...</td>\n",
       "      <td>[]</td>\n",
       "      <td>[]</td>\n",
       "      <td>[]</td>\n",
       "      <td>NaN</td>\n",
       "      <td>NaN</td>\n",
       "      <td>NaN</td>\n",
       "      <td>NaN</td>\n",
       "    </tr>\n",
       "  </tbody>\n",
       "</table>\n",
       "</div>"
      ],
      "text/plain": [
       "   index                                               text  \\\n",
       "0    1.0  This post is also available in:      日本語 (Japa...   \n",
       "1    2.0  The attack vector is very basic and repeats it...   \n",
       "2    3.0  Once executed by the user the first stage malw...   \n",
       "3    4.0   The first known campaign was launched by Crim...   \n",
       "4    5.0  The first stage downloaded the ransomware from...   \n",
       "\n",
       "                                            entities relations Comments  \\\n",
       "0  [{'id': 45800, 'label': 'malware', 'start_offs...        []       []   \n",
       "1  [{'id': 48941, 'label': 'attack-pattern', 'sta...        []       []   \n",
       "2                                                 []        []       []   \n",
       "3  [{'id': 45806, 'label': 'TIME', 'start_offset'...        []       []   \n",
       "4                                                 []        []       []   \n",
       "\n",
       "        id           label  start_offset  end_offset  \n",
       "0  45800.0         malware         288.0       300.0  \n",
       "1  48941.0  attack-pattern          69.0       115.0  \n",
       "2      NaN             NaN           NaN         NaN  \n",
       "3  45806.0            TIME          55.0        68.0  \n",
       "4      NaN             NaN           NaN         NaN  "
      ]
     },
     "execution_count": 5,
     "metadata": {},
     "output_type": "execute_result"
    }
   ],
   "source": [
    "df.head()"
   ]
  },
  {
   "cell_type": "markdown",
   "id": "f6f6438a",
   "metadata": {},
   "source": [
    "Drop the index column"
   ]
  },
  {
   "cell_type": "code",
   "execution_count": 6,
   "id": "62a0054d",
   "metadata": {},
   "outputs": [],
   "source": [
    "df = df.drop(df.columns[0], axis=1)"
   ]
  },
  {
   "cell_type": "code",
   "execution_count": 7,
   "id": "421661a6",
   "metadata": {},
   "outputs": [
    {
     "data": {
      "text/html": [
       "<div>\n",
       "<style scoped>\n",
       "    .dataframe tbody tr th:only-of-type {\n",
       "        vertical-align: middle;\n",
       "    }\n",
       "\n",
       "    .dataframe tbody tr th {\n",
       "        vertical-align: top;\n",
       "    }\n",
       "\n",
       "    .dataframe thead th {\n",
       "        text-align: right;\n",
       "    }\n",
       "</style>\n",
       "<table border=\"1\" class=\"dataframe\">\n",
       "  <thead>\n",
       "    <tr style=\"text-align: right;\">\n",
       "      <th></th>\n",
       "      <th>text</th>\n",
       "      <th>entities</th>\n",
       "      <th>relations</th>\n",
       "      <th>Comments</th>\n",
       "      <th>id</th>\n",
       "      <th>label</th>\n",
       "      <th>start_offset</th>\n",
       "      <th>end_offset</th>\n",
       "    </tr>\n",
       "  </thead>\n",
       "  <tbody>\n",
       "    <tr>\n",
       "      <th>0</th>\n",
       "      <td>This post is also available in:      日本語 (Japa...</td>\n",
       "      <td>[{'id': 45800, 'label': 'malware', 'start_offs...</td>\n",
       "      <td>[]</td>\n",
       "      <td>[]</td>\n",
       "      <td>45800.0</td>\n",
       "      <td>malware</td>\n",
       "      <td>288.0</td>\n",
       "      <td>300.0</td>\n",
       "    </tr>\n",
       "    <tr>\n",
       "      <th>1</th>\n",
       "      <td>The attack vector is very basic and repeats it...</td>\n",
       "      <td>[{'id': 48941, 'label': 'attack-pattern', 'sta...</td>\n",
       "      <td>[]</td>\n",
       "      <td>[]</td>\n",
       "      <td>48941.0</td>\n",
       "      <td>attack-pattern</td>\n",
       "      <td>69.0</td>\n",
       "      <td>115.0</td>\n",
       "    </tr>\n",
       "    <tr>\n",
       "      <th>2</th>\n",
       "      <td>Once executed by the user the first stage malw...</td>\n",
       "      <td>[]</td>\n",
       "      <td>[]</td>\n",
       "      <td>[]</td>\n",
       "      <td>NaN</td>\n",
       "      <td>NaN</td>\n",
       "      <td>NaN</td>\n",
       "      <td>NaN</td>\n",
       "    </tr>\n",
       "    <tr>\n",
       "      <th>3</th>\n",
       "      <td>The first known campaign was launched by Crim...</td>\n",
       "      <td>[{'id': 45806, 'label': 'TIME', 'start_offset'...</td>\n",
       "      <td>[]</td>\n",
       "      <td>[]</td>\n",
       "      <td>45806.0</td>\n",
       "      <td>TIME</td>\n",
       "      <td>55.0</td>\n",
       "      <td>68.0</td>\n",
       "    </tr>\n",
       "    <tr>\n",
       "      <th>4</th>\n",
       "      <td>The first stage downloaded the ransomware from...</td>\n",
       "      <td>[]</td>\n",
       "      <td>[]</td>\n",
       "      <td>[]</td>\n",
       "      <td>NaN</td>\n",
       "      <td>NaN</td>\n",
       "      <td>NaN</td>\n",
       "      <td>NaN</td>\n",
       "    </tr>\n",
       "  </tbody>\n",
       "</table>\n",
       "</div>"
      ],
      "text/plain": [
       "                                                text  \\\n",
       "0  This post is also available in:      日本語 (Japa...   \n",
       "1  The attack vector is very basic and repeats it...   \n",
       "2  Once executed by the user the first stage malw...   \n",
       "3   The first known campaign was launched by Crim...   \n",
       "4  The first stage downloaded the ransomware from...   \n",
       "\n",
       "                                            entities relations Comments  \\\n",
       "0  [{'id': 45800, 'label': 'malware', 'start_offs...        []       []   \n",
       "1  [{'id': 48941, 'label': 'attack-pattern', 'sta...        []       []   \n",
       "2                                                 []        []       []   \n",
       "3  [{'id': 45806, 'label': 'TIME', 'start_offset'...        []       []   \n",
       "4                                                 []        []       []   \n",
       "\n",
       "        id           label  start_offset  end_offset  \n",
       "0  45800.0         malware         288.0       300.0  \n",
       "1  48941.0  attack-pattern          69.0       115.0  \n",
       "2      NaN             NaN           NaN         NaN  \n",
       "3  45806.0            TIME          55.0        68.0  \n",
       "4      NaN             NaN           NaN         NaN  "
      ]
     },
     "execution_count": 7,
     "metadata": {},
     "output_type": "execute_result"
    }
   ],
   "source": [
    "df.head()"
   ]
  },
  {
   "cell_type": "markdown",
   "id": "e2078072",
   "metadata": {},
   "source": [
    "### Data Cleaning"
   ]
  },
  {
   "cell_type": "code",
   "execution_count": 8,
   "id": "5a924528",
   "metadata": {},
   "outputs": [
    {
     "name": "stdout",
     "output_type": "stream",
     "text": [
      "<class 'pandas.core.frame.DataFrame'>\n",
      "RangeIndex: 19940 entries, 0 to 19939\n",
      "Data columns (total 8 columns):\n",
      " #   Column        Non-Null Count  Dtype  \n",
      "---  ------        --------------  -----  \n",
      " 0   text          19940 non-null  object \n",
      " 1   entities      19464 non-null  object \n",
      " 2   relations     19464 non-null  object \n",
      " 3   Comments      19464 non-null  object \n",
      " 4   id            9462 non-null   float64\n",
      " 5   label         9938 non-null   object \n",
      " 6   start_offset  9462 non-null   float64\n",
      " 7   end_offset    9462 non-null   float64\n",
      "dtypes: float64(3), object(5)\n",
      "memory usage: 1.2+ MB\n"
     ]
    }
   ],
   "source": [
    "df.info()"
   ]
  },
  {
   "cell_type": "code",
   "execution_count": 9,
   "id": "d546d794",
   "metadata": {},
   "outputs": [
    {
     "data": {
      "text/plain": [
       "text             object\n",
       "entities         object\n",
       "relations        object\n",
       "Comments         object\n",
       "id              float64\n",
       "label            object\n",
       "start_offset    float64\n",
       "end_offset      float64\n",
       "dtype: object"
      ]
     },
     "execution_count": 9,
     "metadata": {},
     "output_type": "execute_result"
    }
   ],
   "source": [
    "df.dtypes"
   ]
  },
  {
   "cell_type": "code",
   "execution_count": 10,
   "id": "02c86fe3",
   "metadata": {},
   "outputs": [
    {
     "data": {
      "text/plain": [
       "text            8268\n",
       "entities        4732\n",
       "relations        481\n",
       "Comments           3\n",
       "id              4731\n",
       "label             22\n",
       "start_offset     259\n",
       "end_offset       272\n",
       "dtype: int64"
      ]
     },
     "execution_count": 10,
     "metadata": {},
     "output_type": "execute_result"
    }
   ],
   "source": [
    "df.nunique()"
   ]
  },
  {
   "cell_type": "code",
   "execution_count": 11,
   "id": "059ffd0c",
   "metadata": {},
   "outputs": [
    {
     "data": {
      "text/plain": [
       "(19940, 8)"
      ]
     },
     "execution_count": 11,
     "metadata": {},
     "output_type": "execute_result"
    }
   ],
   "source": [
    "df.shape"
   ]
  },
  {
   "cell_type": "markdown",
   "id": "f93dbe48",
   "metadata": {},
   "source": [
    "Check if there are any missing values"
   ]
  },
  {
   "cell_type": "code",
   "execution_count": 12,
   "id": "d1e9f5e6",
   "metadata": {},
   "outputs": [
    {
     "data": {
      "text/plain": [
       "text                0\n",
       "entities          476\n",
       "relations         476\n",
       "Comments          476\n",
       "id              10478\n",
       "label           10002\n",
       "start_offset    10478\n",
       "end_offset      10478\n",
       "dtype: int64"
      ]
     },
     "execution_count": 12,
     "metadata": {},
     "output_type": "execute_result"
    }
   ],
   "source": [
    "df.isnull().sum()"
   ]
  },
  {
   "cell_type": "markdown",
   "id": "d85af668",
   "metadata": {},
   "source": [
    "Assume that all the labels that are not marked as a cyber threat are safe"
   ]
  },
  {
   "cell_type": "code",
   "execution_count": 13,
   "id": "dbec1b7a",
   "metadata": {},
   "outputs": [],
   "source": [
    "df['label'].fillna(value='safe', inplace=True)"
   ]
  },
  {
   "cell_type": "code",
   "execution_count": 14,
   "id": "3d6833dd",
   "metadata": {},
   "outputs": [
    {
     "data": {
      "text/html": [
       "<div>\n",
       "<style scoped>\n",
       "    .dataframe tbody tr th:only-of-type {\n",
       "        vertical-align: middle;\n",
       "    }\n",
       "\n",
       "    .dataframe tbody tr th {\n",
       "        vertical-align: top;\n",
       "    }\n",
       "\n",
       "    .dataframe thead th {\n",
       "        text-align: right;\n",
       "    }\n",
       "</style>\n",
       "<table border=\"1\" class=\"dataframe\">\n",
       "  <thead>\n",
       "    <tr style=\"text-align: right;\">\n",
       "      <th></th>\n",
       "      <th>text</th>\n",
       "      <th>entities</th>\n",
       "      <th>relations</th>\n",
       "      <th>Comments</th>\n",
       "      <th>id</th>\n",
       "      <th>label</th>\n",
       "      <th>start_offset</th>\n",
       "      <th>end_offset</th>\n",
       "    </tr>\n",
       "  </thead>\n",
       "  <tbody>\n",
       "    <tr>\n",
       "      <th>0</th>\n",
       "      <td>This post is also available in:      日本語 (Japa...</td>\n",
       "      <td>[{'id': 45800, 'label': 'malware', 'start_offs...</td>\n",
       "      <td>[]</td>\n",
       "      <td>[]</td>\n",
       "      <td>45800.0</td>\n",
       "      <td>malware</td>\n",
       "      <td>288.0</td>\n",
       "      <td>300.0</td>\n",
       "    </tr>\n",
       "    <tr>\n",
       "      <th>1</th>\n",
       "      <td>The attack vector is very basic and repeats it...</td>\n",
       "      <td>[{'id': 48941, 'label': 'attack-pattern', 'sta...</td>\n",
       "      <td>[]</td>\n",
       "      <td>[]</td>\n",
       "      <td>48941.0</td>\n",
       "      <td>attack-pattern</td>\n",
       "      <td>69.0</td>\n",
       "      <td>115.0</td>\n",
       "    </tr>\n",
       "    <tr>\n",
       "      <th>2</th>\n",
       "      <td>Once executed by the user the first stage malw...</td>\n",
       "      <td>[]</td>\n",
       "      <td>[]</td>\n",
       "      <td>[]</td>\n",
       "      <td>NaN</td>\n",
       "      <td>safe</td>\n",
       "      <td>NaN</td>\n",
       "      <td>NaN</td>\n",
       "    </tr>\n",
       "    <tr>\n",
       "      <th>3</th>\n",
       "      <td>The first known campaign was launched by Crim...</td>\n",
       "      <td>[{'id': 45806, 'label': 'TIME', 'start_offset'...</td>\n",
       "      <td>[]</td>\n",
       "      <td>[]</td>\n",
       "      <td>45806.0</td>\n",
       "      <td>TIME</td>\n",
       "      <td>55.0</td>\n",
       "      <td>68.0</td>\n",
       "    </tr>\n",
       "    <tr>\n",
       "      <th>4</th>\n",
       "      <td>The first stage downloaded the ransomware from...</td>\n",
       "      <td>[]</td>\n",
       "      <td>[]</td>\n",
       "      <td>[]</td>\n",
       "      <td>NaN</td>\n",
       "      <td>safe</td>\n",
       "      <td>NaN</td>\n",
       "      <td>NaN</td>\n",
       "    </tr>\n",
       "  </tbody>\n",
       "</table>\n",
       "</div>"
      ],
      "text/plain": [
       "                                                text  \\\n",
       "0  This post is also available in:      日本語 (Japa...   \n",
       "1  The attack vector is very basic and repeats it...   \n",
       "2  Once executed by the user the first stage malw...   \n",
       "3   The first known campaign was launched by Crim...   \n",
       "4  The first stage downloaded the ransomware from...   \n",
       "\n",
       "                                            entities relations Comments  \\\n",
       "0  [{'id': 45800, 'label': 'malware', 'start_offs...        []       []   \n",
       "1  [{'id': 48941, 'label': 'attack-pattern', 'sta...        []       []   \n",
       "2                                                 []        []       []   \n",
       "3  [{'id': 45806, 'label': 'TIME', 'start_offset'...        []       []   \n",
       "4                                                 []        []       []   \n",
       "\n",
       "        id           label  start_offset  end_offset  \n",
       "0  45800.0         malware         288.0       300.0  \n",
       "1  48941.0  attack-pattern          69.0       115.0  \n",
       "2      NaN            safe           NaN         NaN  \n",
       "3  45806.0            TIME          55.0        68.0  \n",
       "4      NaN            safe           NaN         NaN  "
      ]
     },
     "execution_count": 14,
     "metadata": {},
     "output_type": "execute_result"
    }
   ],
   "source": [
    "df.head()"
   ]
  },
  {
   "cell_type": "code",
   "execution_count": 15,
   "id": "d635a3bf",
   "metadata": {},
   "outputs": [
    {
     "data": {
      "text/plain": [
       "text                0\n",
       "entities          476\n",
       "relations         476\n",
       "Comments          476\n",
       "id              10478\n",
       "label               0\n",
       "start_offset    10478\n",
       "end_offset      10478\n",
       "dtype: int64"
      ]
     },
     "execution_count": 15,
     "metadata": {},
     "output_type": "execute_result"
    }
   ],
   "source": [
    "df.isnull().sum()"
   ]
  },
  {
   "cell_type": "markdown",
   "id": "ddb52225",
   "metadata": {},
   "source": [
    "Fill in the remaining missing values with 0 as a place marker for N/A, no information"
   ]
  },
  {
   "cell_type": "code",
   "execution_count": 16,
   "id": "85534b3c",
   "metadata": {},
   "outputs": [],
   "source": [
    "df=df.fillna(\"\")"
   ]
  },
  {
   "cell_type": "code",
   "execution_count": 17,
   "id": "813692ee",
   "metadata": {},
   "outputs": [
    {
     "data": {
      "text/html": [
       "<div>\n",
       "<style scoped>\n",
       "    .dataframe tbody tr th:only-of-type {\n",
       "        vertical-align: middle;\n",
       "    }\n",
       "\n",
       "    .dataframe tbody tr th {\n",
       "        vertical-align: top;\n",
       "    }\n",
       "\n",
       "    .dataframe thead th {\n",
       "        text-align: right;\n",
       "    }\n",
       "</style>\n",
       "<table border=\"1\" class=\"dataframe\">\n",
       "  <thead>\n",
       "    <tr style=\"text-align: right;\">\n",
       "      <th></th>\n",
       "      <th>text</th>\n",
       "      <th>entities</th>\n",
       "      <th>relations</th>\n",
       "      <th>Comments</th>\n",
       "      <th>id</th>\n",
       "      <th>label</th>\n",
       "      <th>start_offset</th>\n",
       "      <th>end_offset</th>\n",
       "    </tr>\n",
       "  </thead>\n",
       "  <tbody>\n",
       "    <tr>\n",
       "      <th>0</th>\n",
       "      <td>This post is also available in:      日本語 (Japa...</td>\n",
       "      <td>[{'id': 45800, 'label': 'malware', 'start_offs...</td>\n",
       "      <td>[]</td>\n",
       "      <td>[]</td>\n",
       "      <td>45800.0</td>\n",
       "      <td>malware</td>\n",
       "      <td>288.0</td>\n",
       "      <td>300.0</td>\n",
       "    </tr>\n",
       "    <tr>\n",
       "      <th>1</th>\n",
       "      <td>The attack vector is very basic and repeats it...</td>\n",
       "      <td>[{'id': 48941, 'label': 'attack-pattern', 'sta...</td>\n",
       "      <td>[]</td>\n",
       "      <td>[]</td>\n",
       "      <td>48941.0</td>\n",
       "      <td>attack-pattern</td>\n",
       "      <td>69.0</td>\n",
       "      <td>115.0</td>\n",
       "    </tr>\n",
       "    <tr>\n",
       "      <th>2</th>\n",
       "      <td>Once executed by the user the first stage malw...</td>\n",
       "      <td>[]</td>\n",
       "      <td>[]</td>\n",
       "      <td>[]</td>\n",
       "      <td></td>\n",
       "      <td>safe</td>\n",
       "      <td></td>\n",
       "      <td></td>\n",
       "    </tr>\n",
       "    <tr>\n",
       "      <th>3</th>\n",
       "      <td>The first known campaign was launched by Crim...</td>\n",
       "      <td>[{'id': 45806, 'label': 'TIME', 'start_offset'...</td>\n",
       "      <td>[]</td>\n",
       "      <td>[]</td>\n",
       "      <td>45806.0</td>\n",
       "      <td>TIME</td>\n",
       "      <td>55.0</td>\n",
       "      <td>68.0</td>\n",
       "    </tr>\n",
       "    <tr>\n",
       "      <th>4</th>\n",
       "      <td>The first stage downloaded the ransomware from...</td>\n",
       "      <td>[]</td>\n",
       "      <td>[]</td>\n",
       "      <td>[]</td>\n",
       "      <td></td>\n",
       "      <td>safe</td>\n",
       "      <td></td>\n",
       "      <td></td>\n",
       "    </tr>\n",
       "  </tbody>\n",
       "</table>\n",
       "</div>"
      ],
      "text/plain": [
       "                                                text  \\\n",
       "0  This post is also available in:      日本語 (Japa...   \n",
       "1  The attack vector is very basic and repeats it...   \n",
       "2  Once executed by the user the first stage malw...   \n",
       "3   The first known campaign was launched by Crim...   \n",
       "4  The first stage downloaded the ransomware from...   \n",
       "\n",
       "                                            entities relations Comments  \\\n",
       "0  [{'id': 45800, 'label': 'malware', 'start_offs...        []       []   \n",
       "1  [{'id': 48941, 'label': 'attack-pattern', 'sta...        []       []   \n",
       "2                                                 []        []       []   \n",
       "3  [{'id': 45806, 'label': 'TIME', 'start_offset'...        []       []   \n",
       "4                                                 []        []       []   \n",
       "\n",
       "        id           label start_offset end_offset  \n",
       "0  45800.0         malware        288.0      300.0  \n",
       "1  48941.0  attack-pattern         69.0      115.0  \n",
       "2                     safe                          \n",
       "3  45806.0            TIME         55.0       68.0  \n",
       "4                     safe                          "
      ]
     },
     "execution_count": 17,
     "metadata": {},
     "output_type": "execute_result"
    }
   ],
   "source": [
    "df.head()"
   ]
  },
  {
   "cell_type": "code",
   "execution_count": 18,
   "id": "8c4a22c4",
   "metadata": {},
   "outputs": [
    {
     "data": {
      "text/plain": [
       "text            0\n",
       "entities        0\n",
       "relations       0\n",
       "Comments        0\n",
       "id              0\n",
       "label           0\n",
       "start_offset    0\n",
       "end_offset      0\n",
       "dtype: int64"
      ]
     },
     "execution_count": 18,
     "metadata": {},
     "output_type": "execute_result"
    }
   ],
   "source": [
    "df.isnull().sum()"
   ]
  },
  {
   "cell_type": "markdown",
   "id": "9c1d2321",
   "metadata": {},
   "source": [
    "Check for any duplicate rows"
   ]
  },
  {
   "cell_type": "code",
   "execution_count": 19,
   "id": "d5537ca1",
   "metadata": {},
   "outputs": [
    {
     "data": {
      "text/html": [
       "<div>\n",
       "<style scoped>\n",
       "    .dataframe tbody tr th:only-of-type {\n",
       "        vertical-align: middle;\n",
       "    }\n",
       "\n",
       "    .dataframe tbody tr th {\n",
       "        vertical-align: top;\n",
       "    }\n",
       "\n",
       "    .dataframe thead th {\n",
       "        text-align: right;\n",
       "    }\n",
       "</style>\n",
       "<table border=\"1\" class=\"dataframe\">\n",
       "  <thead>\n",
       "    <tr style=\"text-align: right;\">\n",
       "      <th></th>\n",
       "      <th>text</th>\n",
       "      <th>entities</th>\n",
       "      <th>relations</th>\n",
       "      <th>Comments</th>\n",
       "      <th>id</th>\n",
       "      <th>label</th>\n",
       "      <th>start_offset</th>\n",
       "      <th>end_offset</th>\n",
       "    </tr>\n",
       "  </thead>\n",
       "  <tbody>\n",
       "    <tr>\n",
       "      <th>88</th>\n",
       "      <td>Sign up to receive the latest news, cyber thr...</td>\n",
       "      <td>[]</td>\n",
       "      <td>[]</td>\n",
       "      <td>[]</td>\n",
       "      <td></td>\n",
       "      <td>safe</td>\n",
       "      <td></td>\n",
       "      <td></td>\n",
       "    </tr>\n",
       "    <tr>\n",
       "      <th>135</th>\n",
       "      <td>By submitting this form, you agree to our Term...</td>\n",
       "      <td>[]</td>\n",
       "      <td>[]</td>\n",
       "      <td>[]</td>\n",
       "      <td></td>\n",
       "      <td>safe</td>\n",
       "      <td></td>\n",
       "      <td></td>\n",
       "    </tr>\n",
       "    <tr>\n",
       "      <th>178</th>\n",
       "      <td>Sign up to receive the latest news, cyber thr...</td>\n",
       "      <td>[]</td>\n",
       "      <td>[]</td>\n",
       "      <td>[]</td>\n",
       "      <td></td>\n",
       "      <td>safe</td>\n",
       "      <td></td>\n",
       "      <td></td>\n",
       "    </tr>\n",
       "    <tr>\n",
       "      <th>179</th>\n",
       "      <td>Please mark, I'm not a robot!</td>\n",
       "      <td>[]</td>\n",
       "      <td>[]</td>\n",
       "      <td>[]</td>\n",
       "      <td></td>\n",
       "      <td>safe</td>\n",
       "      <td></td>\n",
       "      <td></td>\n",
       "    </tr>\n",
       "    <tr>\n",
       "      <th>180</th>\n",
       "      <td>By submitting this form, you agree to our Term...</td>\n",
       "      <td>[]</td>\n",
       "      <td>[]</td>\n",
       "      <td>[]</td>\n",
       "      <td></td>\n",
       "      <td>safe</td>\n",
       "      <td></td>\n",
       "      <td></td>\n",
       "    </tr>\n",
       "    <tr>\n",
       "      <th>...</th>\n",
       "      <td>...</td>\n",
       "      <td>...</td>\n",
       "      <td>...</td>\n",
       "      <td>...</td>\n",
       "      <td>...</td>\n",
       "      <td>...</td>\n",
       "      <td>...</td>\n",
       "      <td>...</td>\n",
       "    </tr>\n",
       "    <tr>\n",
       "      <th>19935</th>\n",
       "      <td>Cyclops Blink, an advanced modular botnet that...</td>\n",
       "      <td></td>\n",
       "      <td></td>\n",
       "      <td></td>\n",
       "      <td></td>\n",
       "      <td>malware</td>\n",
       "      <td></td>\n",
       "      <td></td>\n",
       "    </tr>\n",
       "    <tr>\n",
       "      <th>19936</th>\n",
       "      <td>Sofacy Group has been associated with many at...</td>\n",
       "      <td></td>\n",
       "      <td></td>\n",
       "      <td></td>\n",
       "      <td></td>\n",
       "      <td>location</td>\n",
       "      <td></td>\n",
       "      <td></td>\n",
       "    </tr>\n",
       "    <tr>\n",
       "      <th>19937</th>\n",
       "      <td>The plugin has been designed to drop multiple ...</td>\n",
       "      <td></td>\n",
       "      <td></td>\n",
       "      <td></td>\n",
       "      <td></td>\n",
       "      <td>Infrastucture</td>\n",
       "      <td></td>\n",
       "      <td></td>\n",
       "    </tr>\n",
       "    <tr>\n",
       "      <th>19938</th>\n",
       "      <td>We have uncovered a cyberespionage campaign be...</td>\n",
       "      <td></td>\n",
       "      <td></td>\n",
       "      <td></td>\n",
       "      <td></td>\n",
       "      <td>threat-actor</td>\n",
       "      <td></td>\n",
       "      <td></td>\n",
       "    </tr>\n",
       "    <tr>\n",
       "      <th>19939</th>\n",
       "      <td>Based on the analysis of samples that were las...</td>\n",
       "      <td></td>\n",
       "      <td></td>\n",
       "      <td></td>\n",
       "      <td></td>\n",
       "      <td>malware</td>\n",
       "      <td></td>\n",
       "      <td></td>\n",
       "    </tr>\n",
       "  </tbody>\n",
       "</table>\n",
       "<p>10671 rows × 8 columns</p>\n",
       "</div>"
      ],
      "text/plain": [
       "                                                    text entities relations  \\\n",
       "88      Sign up to receive the latest news, cyber thr...       []        []   \n",
       "135    By submitting this form, you agree to our Term...       []        []   \n",
       "178     Sign up to receive the latest news, cyber thr...       []        []   \n",
       "179                        Please mark, I'm not a robot!       []        []   \n",
       "180    By submitting this form, you agree to our Term...       []        []   \n",
       "...                                                  ...      ...       ...   \n",
       "19935  Cyclops Blink, an advanced modular botnet that...                      \n",
       "19936   Sofacy Group has been associated with many at...                      \n",
       "19937  The plugin has been designed to drop multiple ...                      \n",
       "19938  We have uncovered a cyberespionage campaign be...                      \n",
       "19939  Based on the analysis of samples that were las...                      \n",
       "\n",
       "      Comments id          label start_offset end_offset  \n",
       "88          []              safe                          \n",
       "135         []              safe                          \n",
       "178         []              safe                          \n",
       "179         []              safe                          \n",
       "180         []              safe                          \n",
       "...        ... ..            ...          ...        ...  \n",
       "19935                    malware                          \n",
       "19936                   location                          \n",
       "19937              Infrastucture                          \n",
       "19938               threat-actor                          \n",
       "19939                    malware                          \n",
       "\n",
       "[10671 rows x 8 columns]"
      ]
     },
     "execution_count": 19,
     "metadata": {},
     "output_type": "execute_result"
    }
   ],
   "source": [
    "duplicateRowsDF=df[df.duplicated()]\n",
    "duplicateRowsDF"
   ]
  },
  {
   "cell_type": "code",
   "execution_count": 20,
   "id": "9fc4cfd4",
   "metadata": {},
   "outputs": [
    {
     "data": {
      "text/plain": [
       "(10671, 8)"
      ]
     },
     "execution_count": 20,
     "metadata": {},
     "output_type": "execute_result"
    }
   ],
   "source": [
    "duplicateRowsDF.shape"
   ]
  },
  {
   "cell_type": "markdown",
   "id": "43c459b4",
   "metadata": {},
   "source": [
    "Drop all of the duplicate rows"
   ]
  },
  {
   "cell_type": "code",
   "execution_count": 21,
   "id": "863148f8",
   "metadata": {},
   "outputs": [],
   "source": [
    "df = df.drop_duplicates()"
   ]
  },
  {
   "cell_type": "code",
   "execution_count": 22,
   "id": "526f0717",
   "metadata": {},
   "outputs": [
    {
     "data": {
      "text/html": [
       "<div>\n",
       "<style scoped>\n",
       "    .dataframe tbody tr th:only-of-type {\n",
       "        vertical-align: middle;\n",
       "    }\n",
       "\n",
       "    .dataframe tbody tr th {\n",
       "        vertical-align: top;\n",
       "    }\n",
       "\n",
       "    .dataframe thead th {\n",
       "        text-align: right;\n",
       "    }\n",
       "</style>\n",
       "<table border=\"1\" class=\"dataframe\">\n",
       "  <thead>\n",
       "    <tr style=\"text-align: right;\">\n",
       "      <th></th>\n",
       "      <th>text</th>\n",
       "      <th>entities</th>\n",
       "      <th>relations</th>\n",
       "      <th>Comments</th>\n",
       "      <th>id</th>\n",
       "      <th>label</th>\n",
       "      <th>start_offset</th>\n",
       "      <th>end_offset</th>\n",
       "    </tr>\n",
       "  </thead>\n",
       "  <tbody>\n",
       "  </tbody>\n",
       "</table>\n",
       "</div>"
      ],
      "text/plain": [
       "Empty DataFrame\n",
       "Columns: [text, entities, relations, Comments, id, label, start_offset, end_offset]\n",
       "Index: []"
      ]
     },
     "execution_count": 22,
     "metadata": {},
     "output_type": "execute_result"
    }
   ],
   "source": [
    "duplicateRowsDF=df[df.duplicated()]\n",
    "duplicateRowsDF"
   ]
  },
  {
   "cell_type": "markdown",
   "id": "1b401499",
   "metadata": {},
   "source": [
    "This is the cleaned data that is ready for further analysis"
   ]
  },
  {
   "cell_type": "code",
   "execution_count": 23,
   "id": "21e5a685",
   "metadata": {},
   "outputs": [
    {
     "data": {
      "text/plain": [
       "(9269, 8)"
      ]
     },
     "execution_count": 23,
     "metadata": {},
     "output_type": "execute_result"
    }
   ],
   "source": [
    "df.shape"
   ]
  },
  {
   "cell_type": "code",
   "execution_count": 24,
   "id": "c73bbfb5",
   "metadata": {},
   "outputs": [
    {
     "data": {
      "text/html": [
       "<div>\n",
       "<style scoped>\n",
       "    .dataframe tbody tr th:only-of-type {\n",
       "        vertical-align: middle;\n",
       "    }\n",
       "\n",
       "    .dataframe tbody tr th {\n",
       "        vertical-align: top;\n",
       "    }\n",
       "\n",
       "    .dataframe thead th {\n",
       "        text-align: right;\n",
       "    }\n",
       "</style>\n",
       "<table border=\"1\" class=\"dataframe\">\n",
       "  <thead>\n",
       "    <tr style=\"text-align: right;\">\n",
       "      <th></th>\n",
       "      <th>text</th>\n",
       "      <th>entities</th>\n",
       "      <th>relations</th>\n",
       "      <th>Comments</th>\n",
       "      <th>id</th>\n",
       "      <th>label</th>\n",
       "      <th>start_offset</th>\n",
       "      <th>end_offset</th>\n",
       "    </tr>\n",
       "  </thead>\n",
       "  <tbody>\n",
       "    <tr>\n",
       "      <th>0</th>\n",
       "      <td>This post is also available in:      日本語 (Japa...</td>\n",
       "      <td>[{'id': 45800, 'label': 'malware', 'start_offs...</td>\n",
       "      <td>[]</td>\n",
       "      <td>[]</td>\n",
       "      <td>45800.0</td>\n",
       "      <td>malware</td>\n",
       "      <td>288.0</td>\n",
       "      <td>300.0</td>\n",
       "    </tr>\n",
       "    <tr>\n",
       "      <th>1</th>\n",
       "      <td>The attack vector is very basic and repeats it...</td>\n",
       "      <td>[{'id': 48941, 'label': 'attack-pattern', 'sta...</td>\n",
       "      <td>[]</td>\n",
       "      <td>[]</td>\n",
       "      <td>48941.0</td>\n",
       "      <td>attack-pattern</td>\n",
       "      <td>69.0</td>\n",
       "      <td>115.0</td>\n",
       "    </tr>\n",
       "    <tr>\n",
       "      <th>2</th>\n",
       "      <td>Once executed by the user the first stage malw...</td>\n",
       "      <td>[]</td>\n",
       "      <td>[]</td>\n",
       "      <td>[]</td>\n",
       "      <td></td>\n",
       "      <td>safe</td>\n",
       "      <td></td>\n",
       "      <td></td>\n",
       "    </tr>\n",
       "    <tr>\n",
       "      <th>3</th>\n",
       "      <td>The first known campaign was launched by Crim...</td>\n",
       "      <td>[{'id': 45806, 'label': 'TIME', 'start_offset'...</td>\n",
       "      <td>[]</td>\n",
       "      <td>[]</td>\n",
       "      <td>45806.0</td>\n",
       "      <td>TIME</td>\n",
       "      <td>55.0</td>\n",
       "      <td>68.0</td>\n",
       "    </tr>\n",
       "    <tr>\n",
       "      <th>4</th>\n",
       "      <td>The first stage downloaded the ransomware from...</td>\n",
       "      <td>[]</td>\n",
       "      <td>[]</td>\n",
       "      <td>[]</td>\n",
       "      <td></td>\n",
       "      <td>safe</td>\n",
       "      <td></td>\n",
       "      <td></td>\n",
       "    </tr>\n",
       "  </tbody>\n",
       "</table>\n",
       "</div>"
      ],
      "text/plain": [
       "                                                text  \\\n",
       "0  This post is also available in:      日本語 (Japa...   \n",
       "1  The attack vector is very basic and repeats it...   \n",
       "2  Once executed by the user the first stage malw...   \n",
       "3   The first known campaign was launched by Crim...   \n",
       "4  The first stage downloaded the ransomware from...   \n",
       "\n",
       "                                            entities relations Comments  \\\n",
       "0  [{'id': 45800, 'label': 'malware', 'start_offs...        []       []   \n",
       "1  [{'id': 48941, 'label': 'attack-pattern', 'sta...        []       []   \n",
       "2                                                 []        []       []   \n",
       "3  [{'id': 45806, 'label': 'TIME', 'start_offset'...        []       []   \n",
       "4                                                 []        []       []   \n",
       "\n",
       "        id           label start_offset end_offset  \n",
       "0  45800.0         malware        288.0      300.0  \n",
       "1  48941.0  attack-pattern         69.0      115.0  \n",
       "2                     safe                          \n",
       "3  45806.0            TIME         55.0       68.0  \n",
       "4                     safe                          "
      ]
     },
     "execution_count": 24,
     "metadata": {},
     "output_type": "execute_result"
    }
   ],
   "source": [
    "df.head()"
   ]
  },
  {
   "cell_type": "code",
   "execution_count": 25,
   "id": "e803aef8",
   "metadata": {},
   "outputs": [],
   "source": [
    "df.to_csv('Wrangled.csv')"
   ]
  },
  {
   "cell_type": "markdown",
   "id": "661780f5",
   "metadata": {},
   "source": [
    "# 03 EDA"
   ]
  },
  {
   "cell_type": "code",
   "execution_count": 26,
   "id": "560013ce",
   "metadata": {},
   "outputs": [
    {
     "name": "stdout",
     "output_type": "stream",
     "text": [
      "Requirement already satisfied: langid in c:\\users\\veron\\anaconda3\\lib\\site-packages (1.1.6)\n",
      "Requirement already satisfied: numpy in c:\\users\\veron\\anaconda3\\lib\\site-packages (from langid) (1.26.4)\n"
     ]
    }
   ],
   "source": [
    "!pip install langid"
   ]
  },
  {
   "cell_type": "code",
   "execution_count": 27,
   "id": "7324cb5e",
   "metadata": {},
   "outputs": [
    {
     "name": "stderr",
     "output_type": "stream",
     "text": [
      "[nltk_data] Downloading package punkt to\n",
      "[nltk_data]     C:\\Users\\veron\\AppData\\Roaming\\nltk_data...\n",
      "[nltk_data]   Package punkt is already up-to-date!\n",
      "[nltk_data] Downloading package stopwords to\n",
      "[nltk_data]     C:\\Users\\veron\\AppData\\Roaming\\nltk_data...\n",
      "[nltk_data]   Package stopwords is already up-to-date!\n",
      "[nltk_data] Downloading package wordnet to\n",
      "[nltk_data]     C:\\Users\\veron\\AppData\\Roaming\\nltk_data...\n",
      "[nltk_data]   Package wordnet is already up-to-date!\n"
     ]
    },
    {
     "data": {
      "text/plain": [
       "True"
      ]
     },
     "execution_count": 27,
     "metadata": {},
     "output_type": "execute_result"
    }
   ],
   "source": [
    "import nltk \n",
    "import string\n",
    "import re\n",
    "import langid\n",
    "from nltk.stem import WordNetLemmatizer\n",
    "from nltk.corpus import stopwords\n",
    "from nltk.tokenize import word_tokenize\n",
    "from nltk.stem import WordNetLemmatizer\n",
    "from nltk.probability import FreqDist\n",
    "nltk.download('punkt')\n",
    "nltk.download('stopwords')\n",
    "nltk.download('wordnet')"
   ]
  },
  {
   "cell_type": "markdown",
   "id": "ac49e785",
   "metadata": {},
   "source": [
    "We will focus on the text and label columns of the data and create a new DataFrame"
   ]
  },
  {
   "cell_type": "code",
   "execution_count": 28,
   "id": "04effa69",
   "metadata": {},
   "outputs": [],
   "source": [
    "activity = df[['text','label']]"
   ]
  },
  {
   "cell_type": "code",
   "execution_count": 29,
   "id": "e59eb182",
   "metadata": {},
   "outputs": [
    {
     "data": {
      "text/html": [
       "<div>\n",
       "<style scoped>\n",
       "    .dataframe tbody tr th:only-of-type {\n",
       "        vertical-align: middle;\n",
       "    }\n",
       "\n",
       "    .dataframe tbody tr th {\n",
       "        vertical-align: top;\n",
       "    }\n",
       "\n",
       "    .dataframe thead th {\n",
       "        text-align: right;\n",
       "    }\n",
       "</style>\n",
       "<table border=\"1\" class=\"dataframe\">\n",
       "  <thead>\n",
       "    <tr style=\"text-align: right;\">\n",
       "      <th></th>\n",
       "      <th>text</th>\n",
       "      <th>label</th>\n",
       "    </tr>\n",
       "  </thead>\n",
       "  <tbody>\n",
       "    <tr>\n",
       "      <th>0</th>\n",
       "      <td>This post is also available in:      日本語 (Japa...</td>\n",
       "      <td>malware</td>\n",
       "    </tr>\n",
       "    <tr>\n",
       "      <th>1</th>\n",
       "      <td>The attack vector is very basic and repeats it...</td>\n",
       "      <td>attack-pattern</td>\n",
       "    </tr>\n",
       "    <tr>\n",
       "      <th>2</th>\n",
       "      <td>Once executed by the user the first stage malw...</td>\n",
       "      <td>safe</td>\n",
       "    </tr>\n",
       "    <tr>\n",
       "      <th>3</th>\n",
       "      <td>The first known campaign was launched by Crim...</td>\n",
       "      <td>TIME</td>\n",
       "    </tr>\n",
       "    <tr>\n",
       "      <th>4</th>\n",
       "      <td>The first stage downloaded the ransomware from...</td>\n",
       "      <td>safe</td>\n",
       "    </tr>\n",
       "  </tbody>\n",
       "</table>\n",
       "</div>"
      ],
      "text/plain": [
       "                                                text           label\n",
       "0  This post is also available in:      日本語 (Japa...         malware\n",
       "1  The attack vector is very basic and repeats it...  attack-pattern\n",
       "2  Once executed by the user the first stage malw...            safe\n",
       "3   The first known campaign was launched by Crim...            TIME\n",
       "4  The first stage downloaded the ransomware from...            safe"
      ]
     },
     "execution_count": 29,
     "metadata": {},
     "output_type": "execute_result"
    }
   ],
   "source": [
    "activity.head()"
   ]
  },
  {
   "cell_type": "markdown",
   "id": "5e3ab303",
   "metadata": {},
   "source": [
    "This is the different types of cyber activity in the dataset"
   ]
  },
  {
   "cell_type": "code",
   "execution_count": 30,
   "id": "bc4b0d41",
   "metadata": {},
   "outputs": [
    {
     "data": {
      "text/plain": [
       "array(['malware', 'attack-pattern', 'safe', 'TIME', 'identity',\n",
       "       'SOFTWARE', 'threat-actor', 'location', 'tools', 'FILEPATH',\n",
       "       'SHA2', 'vulnerability', 'URL', 'DOMAIN', 'IPV4', 'campaign',\n",
       "       'EMAIL', 'REGISTRYKEY', 'SHA1', 'Infrastucture', 'MD5', 'url',\n",
       "       'hash'], dtype=object)"
      ]
     },
     "execution_count": 30,
     "metadata": {},
     "output_type": "execute_result"
    }
   ],
   "source": [
    "activity['label'].unique()"
   ]
  },
  {
   "cell_type": "code",
   "execution_count": 31,
   "id": "e4c2de5a",
   "metadata": {},
   "outputs": [
    {
     "data": {
      "text/plain": [
       "23"
      ]
     },
     "execution_count": 31,
     "metadata": {},
     "output_type": "execute_result"
    }
   ],
   "source": [
    "activity['label'].nunique()"
   ]
  },
  {
   "cell_type": "markdown",
   "id": "5030be34",
   "metadata": {},
   "source": [
    "Now we will check the number of instances of each cyber activity"
   ]
  },
  {
   "cell_type": "code",
   "execution_count": 32,
   "id": "d4cfa91c",
   "metadata": {},
   "outputs": [
    {
     "data": {
      "text/html": [
       "<div>\n",
       "<style scoped>\n",
       "    .dataframe tbody tr th:only-of-type {\n",
       "        vertical-align: middle;\n",
       "    }\n",
       "\n",
       "    .dataframe tbody tr th {\n",
       "        vertical-align: top;\n",
       "    }\n",
       "\n",
       "    .dataframe thead th {\n",
       "        text-align: right;\n",
       "    }\n",
       "</style>\n",
       "<table border=\"1\" class=\"dataframe\">\n",
       "  <thead>\n",
       "    <tr style=\"text-align: right;\">\n",
       "      <th></th>\n",
       "      <th>index</th>\n",
       "      <th>label</th>\n",
       "    </tr>\n",
       "  </thead>\n",
       "  <tbody>\n",
       "    <tr>\n",
       "      <th>0</th>\n",
       "      <td>safe</td>\n",
       "      <td>4140</td>\n",
       "    </tr>\n",
       "    <tr>\n",
       "      <th>1</th>\n",
       "      <td>malware</td>\n",
       "      <td>1003</td>\n",
       "    </tr>\n",
       "    <tr>\n",
       "      <th>2</th>\n",
       "      <td>location</td>\n",
       "      <td>711</td>\n",
       "    </tr>\n",
       "    <tr>\n",
       "      <th>3</th>\n",
       "      <td>SOFTWARE</td>\n",
       "      <td>623</td>\n",
       "    </tr>\n",
       "    <tr>\n",
       "      <th>4</th>\n",
       "      <td>attack-pattern</td>\n",
       "      <td>617</td>\n",
       "    </tr>\n",
       "    <tr>\n",
       "      <th>5</th>\n",
       "      <td>identity</td>\n",
       "      <td>593</td>\n",
       "    </tr>\n",
       "    <tr>\n",
       "      <th>6</th>\n",
       "      <td>threat-actor</td>\n",
       "      <td>466</td>\n",
       "    </tr>\n",
       "    <tr>\n",
       "      <th>7</th>\n",
       "      <td>TIME</td>\n",
       "      <td>245</td>\n",
       "    </tr>\n",
       "    <tr>\n",
       "      <th>8</th>\n",
       "      <td>tools</td>\n",
       "      <td>201</td>\n",
       "    </tr>\n",
       "    <tr>\n",
       "      <th>9</th>\n",
       "      <td>FILEPATH</td>\n",
       "      <td>162</td>\n",
       "    </tr>\n",
       "    <tr>\n",
       "      <th>10</th>\n",
       "      <td>vulnerability</td>\n",
       "      <td>135</td>\n",
       "    </tr>\n",
       "    <tr>\n",
       "      <th>11</th>\n",
       "      <td>SHA2</td>\n",
       "      <td>80</td>\n",
       "    </tr>\n",
       "    <tr>\n",
       "      <th>12</th>\n",
       "      <td>campaign</td>\n",
       "      <td>71</td>\n",
       "    </tr>\n",
       "    <tr>\n",
       "      <th>13</th>\n",
       "      <td>URL</td>\n",
       "      <td>65</td>\n",
       "    </tr>\n",
       "    <tr>\n",
       "      <th>14</th>\n",
       "      <td>IPV4</td>\n",
       "      <td>31</td>\n",
       "    </tr>\n",
       "    <tr>\n",
       "      <th>15</th>\n",
       "      <td>SHA1</td>\n",
       "      <td>30</td>\n",
       "    </tr>\n",
       "    <tr>\n",
       "      <th>16</th>\n",
       "      <td>DOMAIN</td>\n",
       "      <td>25</td>\n",
       "    </tr>\n",
       "    <tr>\n",
       "      <th>17</th>\n",
       "      <td>Infrastucture</td>\n",
       "      <td>24</td>\n",
       "    </tr>\n",
       "    <tr>\n",
       "      <th>18</th>\n",
       "      <td>hash</td>\n",
       "      <td>13</td>\n",
       "    </tr>\n",
       "    <tr>\n",
       "      <th>19</th>\n",
       "      <td>EMAIL</td>\n",
       "      <td>12</td>\n",
       "    </tr>\n",
       "    <tr>\n",
       "      <th>20</th>\n",
       "      <td>REGISTRYKEY</td>\n",
       "      <td>10</td>\n",
       "    </tr>\n",
       "    <tr>\n",
       "      <th>21</th>\n",
       "      <td>MD5</td>\n",
       "      <td>8</td>\n",
       "    </tr>\n",
       "    <tr>\n",
       "      <th>22</th>\n",
       "      <td>url</td>\n",
       "      <td>4</td>\n",
       "    </tr>\n",
       "  </tbody>\n",
       "</table>\n",
       "</div>"
      ],
      "text/plain": [
       "             index  label\n",
       "0             safe   4140\n",
       "1          malware   1003\n",
       "2         location    711\n",
       "3         SOFTWARE    623\n",
       "4   attack-pattern    617\n",
       "5         identity    593\n",
       "6     threat-actor    466\n",
       "7             TIME    245\n",
       "8            tools    201\n",
       "9         FILEPATH    162\n",
       "10   vulnerability    135\n",
       "11            SHA2     80\n",
       "12        campaign     71\n",
       "13             URL     65\n",
       "14            IPV4     31\n",
       "15            SHA1     30\n",
       "16          DOMAIN     25\n",
       "17   Infrastucture     24\n",
       "18            hash     13\n",
       "19           EMAIL     12\n",
       "20     REGISTRYKEY     10\n",
       "21             MD5      8\n",
       "22             url      4"
      ]
     },
     "execution_count": 32,
     "metadata": {},
     "output_type": "execute_result"
    }
   ],
   "source": [
    "label_df = activity['label'].value_counts().reset_index()\n",
    "label_df"
   ]
  },
  {
   "cell_type": "code",
   "execution_count": 33,
   "id": "af066e98",
   "metadata": {},
   "outputs": [
    {
     "data": {
      "text/plain": [
       "[Text(0.5, 0, 'count'), Text(0, 0.5, 'label')]"
      ]
     },
     "execution_count": 33,
     "metadata": {},
     "output_type": "execute_result"
    },
    {
     "data": {
      "image/png": "[encoded data removed]",
      "text/plain": [
       "<Figure size 640x480 with 1 Axes>"
      ]
     },
     "metadata": {},
     "output_type": "display_data"
    }
   ],
   "source": [
    "ax = sns.barplot(data = label_df, x='label', y='index')\n",
    "ax.set(xlabel='count', ylabel='label')"
   ]
  },
  {
   "cell_type": "markdown",
   "id": "93e65715",
   "metadata": {},
   "source": [
    "Based on the chart above, majority of the data is safe. There are around 1200 instances of malware, around 750 instances of attack-pattern, and around 600 instances of threat-actor."
   ]
  },
  {
   "cell_type": "code",
   "execution_count": 34,
   "id": "21536ad9",
   "metadata": {},
   "outputs": [
    {
     "data": {
      "text/plain": [
       "' The first known campaign was launched by Crimeware on November 2014.'"
      ]
     },
     "execution_count": 34,
     "metadata": {},
     "output_type": "execute_result"
    }
   ],
   "source": [
    "sample_text = activity['text'][3]\n",
    "sample_text"
   ]
  },
  {
   "cell_type": "code",
   "execution_count": 35,
   "id": "5a6e2cd4",
   "metadata": {},
   "outputs": [
    {
     "data": {
      "text/plain": [
       "text     object\n",
       "label    object\n",
       "dtype: object"
      ]
     },
     "execution_count": 35,
     "metadata": {},
     "output_type": "execute_result"
    }
   ],
   "source": [
    "activity.dtypes"
   ]
  },
  {
   "cell_type": "markdown",
   "id": "123ebb4f",
   "metadata": {},
   "source": [
    "Counting the number of words in the text data"
   ]
  },
  {
   "cell_type": "code",
   "execution_count": 36,
   "id": "08440d0b",
   "metadata": {},
   "outputs": [],
   "source": [
    "def Get_WordCount(text):\n",
    "    return len(text.split())"
   ]
  },
  {
   "cell_type": "code",
   "execution_count": 37,
   "id": "f5e4385c",
   "metadata": {},
   "outputs": [
    {
     "data": {
      "text/plain": [
       "11"
      ]
     },
     "execution_count": 37,
     "metadata": {},
     "output_type": "execute_result"
    }
   ],
   "source": [
    "Get_WordCount(sample_text)"
   ]
  },
  {
   "cell_type": "code",
   "execution_count": 38,
   "id": "9d548d51",
   "metadata": {},
   "outputs": [
    {
     "name": "stderr",
     "output_type": "stream",
     "text": [
      "C:\\Users\\veron\\AppData\\Local\\Temp\\ipykernel_14032\\2142857729.py:1: SettingWithCopyWarning: \n",
      "A value is trying to be set on a copy of a slice from a DataFrame.\n",
      "Try using .loc[row_indexer,col_indexer] = value instead\n",
      "\n",
      "See the caveats in the documentation: https://pandas.pydata.org/pandas-docs/stable/user_guide/indexing.html#returning-a-view-versus-a-copy\n",
      "  activity['word_count'] = activity['text'].apply(lambda x: Get_WordCount(x))\n"
     ]
    },
    {
     "data": {
      "text/html": [
       "<div>\n",
       "<style scoped>\n",
       "    .dataframe tbody tr th:only-of-type {\n",
       "        vertical-align: middle;\n",
       "    }\n",
       "\n",
       "    .dataframe tbody tr th {\n",
       "        vertical-align: top;\n",
       "    }\n",
       "\n",
       "    .dataframe thead th {\n",
       "        text-align: right;\n",
       "    }\n",
       "</style>\n",
       "<table border=\"1\" class=\"dataframe\">\n",
       "  <thead>\n",
       "    <tr style=\"text-align: right;\">\n",
       "      <th></th>\n",
       "      <th>text</th>\n",
       "      <th>label</th>\n",
       "      <th>word_count</th>\n",
       "    </tr>\n",
       "  </thead>\n",
       "  <tbody>\n",
       "    <tr>\n",
       "      <th>0</th>\n",
       "      <td>This post is also available in:      日本語 (Japa...</td>\n",
       "      <td>malware</td>\n",
       "      <td>55</td>\n",
       "    </tr>\n",
       "    <tr>\n",
       "      <th>1</th>\n",
       "      <td>The attack vector is very basic and repeats it...</td>\n",
       "      <td>attack-pattern</td>\n",
       "      <td>22</td>\n",
       "    </tr>\n",
       "    <tr>\n",
       "      <th>2</th>\n",
       "      <td>Once executed by the user the first stage malw...</td>\n",
       "      <td>safe</td>\n",
       "      <td>20</td>\n",
       "    </tr>\n",
       "    <tr>\n",
       "      <th>3</th>\n",
       "      <td>The first known campaign was launched by Crim...</td>\n",
       "      <td>TIME</td>\n",
       "      <td>11</td>\n",
       "    </tr>\n",
       "    <tr>\n",
       "      <th>4</th>\n",
       "      <td>The first stage downloaded the ransomware from...</td>\n",
       "      <td>safe</td>\n",
       "      <td>9</td>\n",
       "    </tr>\n",
       "  </tbody>\n",
       "</table>\n",
       "</div>"
      ],
      "text/plain": [
       "                                                text           label  \\\n",
       "0  This post is also available in:      日本語 (Japa...         malware   \n",
       "1  The attack vector is very basic and repeats it...  attack-pattern   \n",
       "2  Once executed by the user the first stage malw...            safe   \n",
       "3   The first known campaign was launched by Crim...            TIME   \n",
       "4  The first stage downloaded the ransomware from...            safe   \n",
       "\n",
       "   word_count  \n",
       "0          55  \n",
       "1          22  \n",
       "2          20  \n",
       "3          11  \n",
       "4           9  "
      ]
     },
     "execution_count": 38,
     "metadata": {},
     "output_type": "execute_result"
    }
   ],
   "source": [
    "activity['word_count'] = activity['text'].apply(lambda x: Get_WordCount(x))\n",
    "activity.head()"
   ]
  },
  {
   "cell_type": "code",
   "execution_count": 39,
   "id": "ec54fcd0",
   "metadata": {},
   "outputs": [
    {
     "name": "stdout",
     "output_type": "stream",
     "text": [
      "Total Number of Words =  187768\n"
     ]
    }
   ],
   "source": [
    "Total_word_count = activity['word_count'].sum()\n",
    "print('Total Number of Words = ', Total_word_count)"
   ]
  },
  {
   "cell_type": "code",
   "execution_count": 40,
   "id": "20b9dd10",
   "metadata": {},
   "outputs": [
    {
     "name": "stdout",
     "output_type": "stream",
     "text": [
      "Average Number of Words =  20.26\n"
     ]
    }
   ],
   "source": [
    "avg_word_count = activity['word_count'].mean()\n",
    "print('Average Number of Words = ', round(avg_word_count, 2))"
   ]
  },
  {
   "cell_type": "code",
   "execution_count": 41,
   "id": "69600871",
   "metadata": {},
   "outputs": [
    {
     "data": {
      "text/html": [
       "<div>\n",
       "<style scoped>\n",
       "    .dataframe tbody tr th:only-of-type {\n",
       "        vertical-align: middle;\n",
       "    }\n",
       "\n",
       "    .dataframe tbody tr th {\n",
       "        vertical-align: top;\n",
       "    }\n",
       "\n",
       "    .dataframe thead th {\n",
       "        text-align: right;\n",
       "    }\n",
       "</style>\n",
       "<table border=\"1\" class=\"dataframe\">\n",
       "  <thead>\n",
       "    <tr style=\"text-align: right;\">\n",
       "      <th></th>\n",
       "      <th>word_count</th>\n",
       "    </tr>\n",
       "  </thead>\n",
       "  <tbody>\n",
       "    <tr>\n",
       "      <th>count</th>\n",
       "      <td>9269.000000</td>\n",
       "    </tr>\n",
       "    <tr>\n",
       "      <th>mean</th>\n",
       "      <td>20.257633</td>\n",
       "    </tr>\n",
       "    <tr>\n",
       "      <th>std</th>\n",
       "      <td>14.459955</td>\n",
       "    </tr>\n",
       "    <tr>\n",
       "      <th>min</th>\n",
       "      <td>1.000000</td>\n",
       "    </tr>\n",
       "    <tr>\n",
       "      <th>25%</th>\n",
       "      <td>12.000000</td>\n",
       "    </tr>\n",
       "    <tr>\n",
       "      <th>50%</th>\n",
       "      <td>18.000000</td>\n",
       "    </tr>\n",
       "    <tr>\n",
       "      <th>75%</th>\n",
       "      <td>26.000000</td>\n",
       "    </tr>\n",
       "    <tr>\n",
       "      <th>max</th>\n",
       "      <td>490.000000</td>\n",
       "    </tr>\n",
       "  </tbody>\n",
       "</table>\n",
       "</div>"
      ],
      "text/plain": [
       "        word_count\n",
       "count  9269.000000\n",
       "mean     20.257633\n",
       "std      14.459955\n",
       "min       1.000000\n",
       "25%      12.000000\n",
       "50%      18.000000\n",
       "75%      26.000000\n",
       "max     490.000000"
      ]
     },
     "execution_count": 41,
     "metadata": {},
     "output_type": "execute_result"
    }
   ],
   "source": [
    "activity.describe()"
   ]
  },
  {
   "cell_type": "code",
   "execution_count": 42,
   "id": "f2616a39",
   "metadata": {},
   "outputs": [
    {
     "data": {
      "text/plain": [
       "'tools'"
      ]
     },
     "execution_count": 42,
     "metadata": {},
     "output_type": "execute_result"
    }
   ],
   "source": [
    "activity[activity['word_count'] == 490].iloc[0,1]"
   ]
  },
  {
   "cell_type": "markdown",
   "id": "9ddc5c09",
   "metadata": {},
   "source": [
    "The word with the most word count is 'tools'"
   ]
  },
  {
   "cell_type": "code",
   "execution_count": 43,
   "id": "8e566fc0",
   "metadata": {},
   "outputs": [
    {
     "data": {
      "text/plain": [
       "<Axes: ylabel='Frequency'>"
      ]
     },
     "execution_count": 43,
     "metadata": {},
     "output_type": "execute_result"
    },
    {
     "data": {
      "image/png": "[encoded data removed]",
      "text/plain": [
       "<Figure size 640x480 with 1 Axes>"
      ]
     },
     "metadata": {},
     "output_type": "display_data"
    }
   ],
   "source": [
    "activity.word_count.plot(kind = 'hist')"
   ]
  },
  {
   "cell_type": "code",
   "execution_count": 44,
   "id": "4aeba8b1",
   "metadata": {},
   "outputs": [
    {
     "data": {
      "text/plain": [
       "<Axes: ylabel='Density'>"
      ]
     },
     "execution_count": 44,
     "metadata": {},
     "output_type": "execute_result"
    },
    {
     "data": {
      "image/png": "[encoded data removed]",
      "text/plain": [
       "<Figure size 640x480 with 1 Axes>"
      ]
     },
     "metadata": {},
     "output_type": "display_data"
    }
   ],
   "source": [
    "activity.word_count.plot(kind = 'kde')"
   ]
  },
  {
   "cell_type": "markdown",
   "id": "ddcfc9fa",
   "metadata": {},
   "source": [
    "The word count is between 1 - 100 with majority of the data having fewer word count"
   ]
  },
  {
   "cell_type": "code",
   "execution_count": 45,
   "id": "113eab45",
   "metadata": {},
   "outputs": [
    {
     "data": {
      "text/plain": [
       "<Axes: >"
      ]
     },
     "execution_count": 45,
     "metadata": {},
     "output_type": "execute_result"
    },
    {
     "data": {
      "image/png": "[encoded data removed]",
      "text/plain": [
       "<Figure size 640x480 with 1 Axes>"
      ]
     },
     "metadata": {},
     "output_type": "display_data"
    }
   ],
   "source": [
    "activity['word_count'].plot(kind = 'box')"
   ]
  },
  {
   "cell_type": "markdown",
   "id": "4e7495fe",
   "metadata": {},
   "source": [
    "There are some outliers in the data with very high word count"
   ]
  },
  {
   "cell_type": "markdown",
   "id": "72be25f7",
   "metadata": {},
   "source": [
    "#### Top 5 longest word count:"
   ]
  },
  {
   "cell_type": "code",
   "execution_count": 46,
   "id": "4719d755",
   "metadata": {},
   "outputs": [
    {
     "data": {
      "text/html": [
       "<div>\n",
       "<style scoped>\n",
       "    .dataframe tbody tr th:only-of-type {\n",
       "        vertical-align: middle;\n",
       "    }\n",
       "\n",
       "    .dataframe tbody tr th {\n",
       "        vertical-align: top;\n",
       "    }\n",
       "\n",
       "    .dataframe thead th {\n",
       "        text-align: right;\n",
       "    }\n",
       "</style>\n",
       "<table border=\"1\" class=\"dataframe\">\n",
       "  <thead>\n",
       "    <tr style=\"text-align: right;\">\n",
       "      <th></th>\n",
       "      <th>text</th>\n",
       "      <th>label</th>\n",
       "      <th>word_count</th>\n",
       "    </tr>\n",
       "  </thead>\n",
       "  <tbody>\n",
       "    <tr>\n",
       "      <th>8111</th>\n",
       "      <td>Administrative Office of the President, Afghan...</td>\n",
       "      <td>tools</td>\n",
       "      <td>490</td>\n",
       "    </tr>\n",
       "    <tr>\n",
       "      <th>3252</th>\n",
       "      <td>Command  Behavior  Compress_Files  Compresses...</td>\n",
       "      <td>FILEPATH</td>\n",
       "      <td>323</td>\n",
       "    </tr>\n",
       "    <tr>\n",
       "      <th>3410</th>\n",
       "      <td>systemsetting.exe  BIOPASS RAT binary (PyInsta...</td>\n",
       "      <td>malware</td>\n",
       "      <td>303</td>\n",
       "    </tr>\n",
       "    <tr>\n",
       "      <th>5795</th>\n",
       "      <td>Indicators of Compromise  Indicator  Descripti...</td>\n",
       "      <td>threat-actor</td>\n",
       "      <td>266</td>\n",
       "    </tr>\n",
       "    <tr>\n",
       "      <th>2667</th>\n",
       "      <td>Several adversarial techniques were observed ...</td>\n",
       "      <td>identity</td>\n",
       "      <td>159</td>\n",
       "    </tr>\n",
       "  </tbody>\n",
       "</table>\n",
       "</div>"
      ],
      "text/plain": [
       "                                                   text         label  \\\n",
       "8111  Administrative Office of the President, Afghan...         tools   \n",
       "3252   Command  Behavior  Compress_Files  Compresses...      FILEPATH   \n",
       "3410  systemsetting.exe  BIOPASS RAT binary (PyInsta...       malware   \n",
       "5795  Indicators of Compromise  Indicator  Descripti...  threat-actor   \n",
       "2667   Several adversarial techniques were observed ...      identity   \n",
       "\n",
       "      word_count  \n",
       "8111         490  \n",
       "3252         323  \n",
       "3410         303  \n",
       "5795         266  \n",
       "2667         159  "
      ]
     },
     "execution_count": 46,
     "metadata": {},
     "output_type": "execute_result"
    }
   ],
   "source": [
    "activity.sort_values(['word_count'], ascending=False).head(5)"
   ]
  },
  {
   "cell_type": "markdown",
   "id": "74ed8d89",
   "metadata": {},
   "source": [
    "#### Top 5 shortest word count:"
   ]
  },
  {
   "cell_type": "code",
   "execution_count": 47,
   "id": "fc182cd6",
   "metadata": {},
   "outputs": [
    {
     "data": {
      "text/html": [
       "<div>\n",
       "<style scoped>\n",
       "    .dataframe tbody tr th:only-of-type {\n",
       "        vertical-align: middle;\n",
       "    }\n",
       "\n",
       "    .dataframe tbody tr th {\n",
       "        vertical-align: top;\n",
       "    }\n",
       "\n",
       "    .dataframe thead th {\n",
       "        text-align: right;\n",
       "    }\n",
       "</style>\n",
       "<table border=\"1\" class=\"dataframe\">\n",
       "  <thead>\n",
       "    <tr style=\"text-align: right;\">\n",
       "      <th></th>\n",
       "      <th>text</th>\n",
       "      <th>label</th>\n",
       "      <th>word_count</th>\n",
       "    </tr>\n",
       "  </thead>\n",
       "  <tbody>\n",
       "    <tr>\n",
       "      <th>5505</th>\n",
       "      <td>StealthWorker</td>\n",
       "      <td>safe</td>\n",
       "      <td>1</td>\n",
       "    </tr>\n",
       "    <tr>\n",
       "      <th>3366</th>\n",
       "      <td>flash.exe</td>\n",
       "      <td>malware</td>\n",
       "      <td>1</td>\n",
       "    </tr>\n",
       "    <tr>\n",
       "      <th>2360</th>\n",
       "      <td>ScrambleCross</td>\n",
       "      <td>malware</td>\n",
       "      <td>1</td>\n",
       "    </tr>\n",
       "    <tr>\n",
       "      <th>3377</th>\n",
       "      <td>Win64.BIOPASS.A</td>\n",
       "      <td>malware</td>\n",
       "      <td>1</td>\n",
       "    </tr>\n",
       "    <tr>\n",
       "      <th>7727</th>\n",
       "      <td>Buffer</td>\n",
       "      <td>safe</td>\n",
       "      <td>1</td>\n",
       "    </tr>\n",
       "  </tbody>\n",
       "</table>\n",
       "</div>"
      ],
      "text/plain": [
       "                 text    label  word_count\n",
       "5505    StealthWorker     safe           1\n",
       "3366      flash.exe    malware           1\n",
       "2360    ScrambleCross  malware           1\n",
       "3377  Win64.BIOPASS.A  malware           1\n",
       "7727           Buffer     safe           1"
      ]
     },
     "execution_count": 47,
     "metadata": {},
     "output_type": "execute_result"
    }
   ],
   "source": [
    "activity.sort_values(['word_count'], ascending=True).head(5)"
   ]
  },
  {
   "cell_type": "markdown",
   "id": "2fcf91ec",
   "metadata": {},
   "source": [
    "We can also check the character count"
   ]
  },
  {
   "cell_type": "code",
   "execution_count": 48,
   "id": "4eb6d6af",
   "metadata": {},
   "outputs": [],
   "source": [
    "def Get_char_count(text):\n",
    "    return len(text)"
   ]
  },
  {
   "cell_type": "code",
   "execution_count": 49,
   "id": "731c6215",
   "metadata": {},
   "outputs": [
    {
     "data": {
      "text/plain": [
       "69"
      ]
     },
     "execution_count": 49,
     "metadata": {},
     "output_type": "execute_result"
    }
   ],
   "source": [
    "Get_char_count(sample_text)"
   ]
  },
  {
   "cell_type": "code",
   "execution_count": 50,
   "id": "be70c42f",
   "metadata": {},
   "outputs": [
    {
     "name": "stderr",
     "output_type": "stream",
     "text": [
      "C:\\Users\\veron\\AppData\\Local\\Temp\\ipykernel_14032\\1616069763.py:1: SettingWithCopyWarning: \n",
      "A value is trying to be set on a copy of a slice from a DataFrame.\n",
      "Try using .loc[row_indexer,col_indexer] = value instead\n",
      "\n",
      "See the caveats in the documentation: https://pandas.pydata.org/pandas-docs/stable/user_guide/indexing.html#returning-a-view-versus-a-copy\n",
      "  activity['char_length'] = activity['text'].apply(lambda x: Get_char_count(x))\n"
     ]
    }
   ],
   "source": [
    "activity['char_length'] = activity['text'].apply(lambda x: Get_char_count(x))"
   ]
  },
  {
   "cell_type": "code",
   "execution_count": 51,
   "id": "0f7a305b",
   "metadata": {},
   "outputs": [
    {
     "data": {
      "text/html": [
       "<div>\n",
       "<style scoped>\n",
       "    .dataframe tbody tr th:only-of-type {\n",
       "        vertical-align: middle;\n",
       "    }\n",
       "\n",
       "    .dataframe tbody tr th {\n",
       "        vertical-align: top;\n",
       "    }\n",
       "\n",
       "    .dataframe thead th {\n",
       "        text-align: right;\n",
       "    }\n",
       "</style>\n",
       "<table border=\"1\" class=\"dataframe\">\n",
       "  <thead>\n",
       "    <tr style=\"text-align: right;\">\n",
       "      <th></th>\n",
       "      <th>text</th>\n",
       "      <th>label</th>\n",
       "      <th>word_count</th>\n",
       "      <th>char_length</th>\n",
       "    </tr>\n",
       "  </thead>\n",
       "  <tbody>\n",
       "    <tr>\n",
       "      <th>0</th>\n",
       "      <td>This post is also available in:      日本語 (Japa...</td>\n",
       "      <td>malware</td>\n",
       "      <td>55</td>\n",
       "      <td>354</td>\n",
       "    </tr>\n",
       "    <tr>\n",
       "      <th>1</th>\n",
       "      <td>The attack vector is very basic and repeats it...</td>\n",
       "      <td>attack-pattern</td>\n",
       "      <td>22</td>\n",
       "      <td>132</td>\n",
       "    </tr>\n",
       "    <tr>\n",
       "      <th>2</th>\n",
       "      <td>Once executed by the user the first stage malw...</td>\n",
       "      <td>safe</td>\n",
       "      <td>20</td>\n",
       "      <td>123</td>\n",
       "    </tr>\n",
       "    <tr>\n",
       "      <th>3</th>\n",
       "      <td>The first known campaign was launched by Crim...</td>\n",
       "      <td>TIME</td>\n",
       "      <td>11</td>\n",
       "      <td>69</td>\n",
       "    </tr>\n",
       "    <tr>\n",
       "      <th>4</th>\n",
       "      <td>The first stage downloaded the ransomware from...</td>\n",
       "      <td>safe</td>\n",
       "      <td>9</td>\n",
       "      <td>59</td>\n",
       "    </tr>\n",
       "  </tbody>\n",
       "</table>\n",
       "</div>"
      ],
      "text/plain": [
       "                                                text           label  \\\n",
       "0  This post is also available in:      日本語 (Japa...         malware   \n",
       "1  The attack vector is very basic and repeats it...  attack-pattern   \n",
       "2  Once executed by the user the first stage malw...            safe   \n",
       "3   The first known campaign was launched by Crim...            TIME   \n",
       "4  The first stage downloaded the ransomware from...            safe   \n",
       "\n",
       "   word_count  char_length  \n",
       "0          55          354  \n",
       "1          22          132  \n",
       "2          20          123  \n",
       "3          11           69  \n",
       "4           9           59  "
      ]
     },
     "execution_count": 51,
     "metadata": {},
     "output_type": "execute_result"
    }
   ],
   "source": [
    "activity.head()"
   ]
  },
  {
   "cell_type": "code",
   "execution_count": 52,
   "id": "6fe0eb50",
   "metadata": {},
   "outputs": [
    {
     "data": {
      "text/plain": [
       "count    9269.000000\n",
       "mean      140.108642\n",
       "std       153.258854\n",
       "min         3.000000\n",
       "25%        79.000000\n",
       "50%       121.000000\n",
       "75%       172.000000\n",
       "max      5006.000000\n",
       "Name: char_length, dtype: float64"
      ]
     },
     "execution_count": 52,
     "metadata": {},
     "output_type": "execute_result"
    }
   ],
   "source": [
    "activity['char_length'].describe()"
   ]
  },
  {
   "cell_type": "code",
   "execution_count": 53,
   "id": "c3e398a8",
   "metadata": {},
   "outputs": [
    {
     "data": {
      "text/plain": [
       "<Axes: ylabel='Frequency'>"
      ]
     },
     "execution_count": 53,
     "metadata": {},
     "output_type": "execute_result"
    },
    {
     "data": {
      "image/png": "[encoded data removed]",
      "text/plain": [
       "<Figure size 640x480 with 1 Axes>"
      ]
     },
     "metadata": {},
     "output_type": "display_data"
    }
   ],
   "source": [
    "activity['char_length'].plot(kind = 'hist')"
   ]
  },
  {
   "cell_type": "markdown",
   "id": "0fc7468c",
   "metadata": {},
   "source": [
    "The histograph shows similar results as the word count"
   ]
  },
  {
   "cell_type": "markdown",
   "id": "8f0c7c97",
   "metadata": {},
   "source": [
    "Listing the word count and character count in a DataFrame for side by side comparison"
   ]
  },
  {
   "cell_type": "code",
   "execution_count": 54,
   "id": "77f50c5b",
   "metadata": {},
   "outputs": [
    {
     "data": {
      "text/html": [
       "<div>\n",
       "<style scoped>\n",
       "    .dataframe tbody tr th:only-of-type {\n",
       "        vertical-align: middle;\n",
       "    }\n",
       "\n",
       "    .dataframe tbody tr th {\n",
       "        vertical-align: top;\n",
       "    }\n",
       "\n",
       "    .dataframe thead th {\n",
       "        text-align: right;\n",
       "    }\n",
       "</style>\n",
       "<table border=\"1\" class=\"dataframe\">\n",
       "  <thead>\n",
       "    <tr style=\"text-align: right;\">\n",
       "      <th></th>\n",
       "      <th>label</th>\n",
       "      <th>word_count</th>\n",
       "      <th>char_length</th>\n",
       "    </tr>\n",
       "  </thead>\n",
       "  <tbody>\n",
       "    <tr>\n",
       "      <th>16</th>\n",
       "      <td>location</td>\n",
       "      <td>27.693390</td>\n",
       "      <td>199.960619</td>\n",
       "    </tr>\n",
       "    <tr>\n",
       "      <th>22</th>\n",
       "      <td>vulnerability</td>\n",
       "      <td>26.814815</td>\n",
       "      <td>185.348148</td>\n",
       "    </tr>\n",
       "    <tr>\n",
       "      <th>21</th>\n",
       "      <td>url</td>\n",
       "      <td>26.750000</td>\n",
       "      <td>178.250000</td>\n",
       "    </tr>\n",
       "    <tr>\n",
       "      <th>6</th>\n",
       "      <td>REGISTRYKEY</td>\n",
       "      <td>26.400000</td>\n",
       "      <td>225.800000</td>\n",
       "    </tr>\n",
       "    <tr>\n",
       "      <th>19</th>\n",
       "      <td>threat-actor</td>\n",
       "      <td>25.444206</td>\n",
       "      <td>177.510730</td>\n",
       "    </tr>\n",
       "    <tr>\n",
       "      <th>3</th>\n",
       "      <td>IPV4</td>\n",
       "      <td>25.322581</td>\n",
       "      <td>233.387097</td>\n",
       "    </tr>\n",
       "    <tr>\n",
       "      <th>20</th>\n",
       "      <td>tools</td>\n",
       "      <td>24.631841</td>\n",
       "      <td>172.427861</td>\n",
       "    </tr>\n",
       "    <tr>\n",
       "      <th>15</th>\n",
       "      <td>identity</td>\n",
       "      <td>24.121417</td>\n",
       "      <td>158.956155</td>\n",
       "    </tr>\n",
       "    <tr>\n",
       "      <th>9</th>\n",
       "      <td>SOFTWARE</td>\n",
       "      <td>23.659711</td>\n",
       "      <td>151.707865</td>\n",
       "    </tr>\n",
       "    <tr>\n",
       "      <th>2</th>\n",
       "      <td>FILEPATH</td>\n",
       "      <td>23.648148</td>\n",
       "      <td>195.777778</td>\n",
       "    </tr>\n",
       "    <tr>\n",
       "      <th>13</th>\n",
       "      <td>campaign</td>\n",
       "      <td>23.211268</td>\n",
       "      <td>152.704225</td>\n",
       "    </tr>\n",
       "    <tr>\n",
       "      <th>4</th>\n",
       "      <td>Infrastucture</td>\n",
       "      <td>22.666667</td>\n",
       "      <td>147.291667</td>\n",
       "    </tr>\n",
       "    <tr>\n",
       "      <th>12</th>\n",
       "      <td>attack-pattern</td>\n",
       "      <td>22.544571</td>\n",
       "      <td>154.936791</td>\n",
       "    </tr>\n",
       "    <tr>\n",
       "      <th>10</th>\n",
       "      <td>TIME</td>\n",
       "      <td>22.481633</td>\n",
       "      <td>141.016327</td>\n",
       "    </tr>\n",
       "    <tr>\n",
       "      <th>17</th>\n",
       "      <td>malware</td>\n",
       "      <td>20.938185</td>\n",
       "      <td>149.745763</td>\n",
       "    </tr>\n",
       "    <tr>\n",
       "      <th>7</th>\n",
       "      <td>SHA1</td>\n",
       "      <td>20.900000</td>\n",
       "      <td>426.133333</td>\n",
       "    </tr>\n",
       "    <tr>\n",
       "      <th>14</th>\n",
       "      <td>hash</td>\n",
       "      <td>19.461538</td>\n",
       "      <td>258.153846</td>\n",
       "    </tr>\n",
       "    <tr>\n",
       "      <th>0</th>\n",
       "      <td>DOMAIN</td>\n",
       "      <td>19.400000</td>\n",
       "      <td>140.160000</td>\n",
       "    </tr>\n",
       "    <tr>\n",
       "      <th>8</th>\n",
       "      <td>SHA2</td>\n",
       "      <td>18.862500</td>\n",
       "      <td>352.412500</td>\n",
       "    </tr>\n",
       "    <tr>\n",
       "      <th>5</th>\n",
       "      <td>MD5</td>\n",
       "      <td>17.750000</td>\n",
       "      <td>276.375000</td>\n",
       "    </tr>\n",
       "    <tr>\n",
       "      <th>1</th>\n",
       "      <td>EMAIL</td>\n",
       "      <td>17.000000</td>\n",
       "      <td>145.166667</td>\n",
       "    </tr>\n",
       "    <tr>\n",
       "      <th>18</th>\n",
       "      <td>safe</td>\n",
       "      <td>16.167150</td>\n",
       "      <td>102.702415</td>\n",
       "    </tr>\n",
       "    <tr>\n",
       "      <th>11</th>\n",
       "      <td>URL</td>\n",
       "      <td>13.169231</td>\n",
       "      <td>180.046154</td>\n",
       "    </tr>\n",
       "  </tbody>\n",
       "</table>\n",
       "</div>"
      ],
      "text/plain": [
       "             label  word_count  char_length\n",
       "16        location   27.693390   199.960619\n",
       "22   vulnerability   26.814815   185.348148\n",
       "21             url   26.750000   178.250000\n",
       "6      REGISTRYKEY   26.400000   225.800000\n",
       "19    threat-actor   25.444206   177.510730\n",
       "3             IPV4   25.322581   233.387097\n",
       "20           tools   24.631841   172.427861\n",
       "15        identity   24.121417   158.956155\n",
       "9         SOFTWARE   23.659711   151.707865\n",
       "2         FILEPATH   23.648148   195.777778\n",
       "13        campaign   23.211268   152.704225\n",
       "4    Infrastucture   22.666667   147.291667\n",
       "12  attack-pattern   22.544571   154.936791\n",
       "10            TIME   22.481633   141.016327\n",
       "17         malware   20.938185   149.745763\n",
       "7             SHA1   20.900000   426.133333\n",
       "14            hash   19.461538   258.153846\n",
       "0           DOMAIN   19.400000   140.160000\n",
       "8             SHA2   18.862500   352.412500\n",
       "5              MD5   17.750000   276.375000\n",
       "1            EMAIL   17.000000   145.166667\n",
       "18            safe   16.167150   102.702415\n",
       "11             URL   13.169231   180.046154"
      ]
     },
     "execution_count": 54,
     "metadata": {},
     "output_type": "execute_result"
    }
   ],
   "source": [
    "activity.groupby(['label'])[['word_count', 'char_length']].mean().reset_index().sort_values(['word_count'], ascending=False)"
   ]
  },
  {
   "cell_type": "markdown",
   "id": "c71140ea",
   "metadata": {},
   "source": [
    "Preprocessing the data to do the following:\n",
    "\n",
    "* Remove brackets\n",
    "* Remove punctuation\n",
    "* Convert text to lowercase\n",
    "* Remove foreign language\n",
    "* Tokenize the text\n",
    "* Remove stop words\n",
    "* Lemmatize the text"
   ]
  },
  {
   "cell_type": "code",
   "execution_count": 55,
   "id": "b0193924",
   "metadata": {},
   "outputs": [],
   "source": [
    "def tokenize_text(text):\n",
    "    \n",
    "    text = re.sub(r'[\\[\\](){}<>]', '', text)\n",
    "    \n",
    "    text = re.sub(r'\\d+', '', text)\n",
    "    \n",
    "    text = re.sub(r'[^\\w\\s]', '', text)\n",
    "    \n",
    "    text = text.lower()\n",
    "    \n",
    "    lang, _ = langid.classify(text)\n",
    "    \n",
    "    if lang == 'en':\n",
    "    \n",
    "        tokens = word_tokenize(text)\n",
    "    \n",
    "        stop_words = set(stopwords.words('english'))\n",
    "    \n",
    "        punctuations = set(string.punctuation)\n",
    "    \n",
    "    \n",
    "        filtered_tokens = [word for word in tokens if word.lower() not in stop_words and word not in punctuations]\n",
    "    \n",
    "        lemmatizer = WordNetLemmatizer()\n",
    "        lemmatized_tokens = [lemmatizer.lemmatize(word) for word in filtered_tokens]\n",
    "    \n",
    "        tokenize_text = ' '.join(lemmatized_tokens)\n",
    "    \n",
    "        return tokenize_text\n",
    "    else:\n",
    "        return ''"
   ]
  },
  {
   "cell_type": "code",
   "execution_count": 56,
   "id": "f2be80c0",
   "metadata": {},
   "outputs": [
    {
     "name": "stderr",
     "output_type": "stream",
     "text": [
      "C:\\Users\\veron\\AppData\\Local\\Temp\\ipykernel_14032\\3940058043.py:1: SettingWithCopyWarning: \n",
      "A value is trying to be set on a copy of a slice from a DataFrame.\n",
      "Try using .loc[row_indexer,col_indexer] = value instead\n",
      "\n",
      "See the caveats in the documentation: https://pandas.pydata.org/pandas-docs/stable/user_guide/indexing.html#returning-a-view-versus-a-copy\n",
      "  activity['tokenize_text'] = activity['text'].apply(tokenize_text)\n"
     ]
    }
   ],
   "source": [
    "activity['tokenize_text'] = activity['text'].apply(tokenize_text)"
   ]
  },
  {
   "cell_type": "code",
   "execution_count": 57,
   "id": "eea0655b",
   "metadata": {},
   "outputs": [
    {
     "data": {
      "text/html": [
       "<div>\n",
       "<style scoped>\n",
       "    .dataframe tbody tr th:only-of-type {\n",
       "        vertical-align: middle;\n",
       "    }\n",
       "\n",
       "    .dataframe tbody tr th {\n",
       "        vertical-align: top;\n",
       "    }\n",
       "\n",
       "    .dataframe thead th {\n",
       "        text-align: right;\n",
       "    }\n",
       "</style>\n",
       "<table border=\"1\" class=\"dataframe\">\n",
       "  <thead>\n",
       "    <tr style=\"text-align: right;\">\n",
       "      <th></th>\n",
       "      <th>text</th>\n",
       "      <th>label</th>\n",
       "      <th>word_count</th>\n",
       "      <th>char_length</th>\n",
       "      <th>tokenize_text</th>\n",
       "    </tr>\n",
       "  </thead>\n",
       "  <tbody>\n",
       "    <tr>\n",
       "      <th>0</th>\n",
       "      <td>This post is also available in:      日本語 (Japa...</td>\n",
       "      <td>malware</td>\n",
       "      <td>55</td>\n",
       "      <td>354</td>\n",
       "      <td>post also available 日本語 japanese ctblocker wel...</td>\n",
       "    </tr>\n",
       "    <tr>\n",
       "      <th>1</th>\n",
       "      <td>The attack vector is very basic and repeats it...</td>\n",
       "      <td>attack-pattern</td>\n",
       "      <td>22</td>\n",
       "      <td>132</td>\n",
       "      <td>attack vector basic repeat begin spear phishin...</td>\n",
       "    </tr>\n",
       "    <tr>\n",
       "      <th>2</th>\n",
       "      <td>Once executed by the user the first stage malw...</td>\n",
       "      <td>safe</td>\n",
       "      <td>20</td>\n",
       "      <td>123</td>\n",
       "      <td>executed user first stage malware downloads ex...</td>\n",
       "    </tr>\n",
       "    <tr>\n",
       "      <th>3</th>\n",
       "      <td>The first known campaign was launched by Crim...</td>\n",
       "      <td>TIME</td>\n",
       "      <td>11</td>\n",
       "      <td>69</td>\n",
       "      <td>first known campaign launched crimeware november</td>\n",
       "    </tr>\n",
       "    <tr>\n",
       "      <th>4</th>\n",
       "      <td>The first stage downloaded the ransomware from...</td>\n",
       "      <td>safe</td>\n",
       "      <td>9</td>\n",
       "      <td>59</td>\n",
       "      <td>first stage downloaded ransomware site</td>\n",
       "    </tr>\n",
       "  </tbody>\n",
       "</table>\n",
       "</div>"
      ],
      "text/plain": [
       "                                                text           label  \\\n",
       "0  This post is also available in:      日本語 (Japa...         malware   \n",
       "1  The attack vector is very basic and repeats it...  attack-pattern   \n",
       "2  Once executed by the user the first stage malw...            safe   \n",
       "3   The first known campaign was launched by Crim...            TIME   \n",
       "4  The first stage downloaded the ransomware from...            safe   \n",
       "\n",
       "   word_count  char_length                                      tokenize_text  \n",
       "0          55          354  post also available 日本語 japanese ctblocker wel...  \n",
       "1          22          132  attack vector basic repeat begin spear phishin...  \n",
       "2          20          123  executed user first stage malware downloads ex...  \n",
       "3          11           69   first known campaign launched crimeware november  \n",
       "4           9           59             first stage downloaded ransomware site  "
      ]
     },
     "execution_count": 57,
     "metadata": {},
     "output_type": "execute_result"
    }
   ],
   "source": [
    "activity.head()"
   ]
  },
  {
   "cell_type": "markdown",
   "id": "5dc96b25",
   "metadata": {},
   "source": [
    "Create a chart with the top 20 most common words"
   ]
  },
  {
   "cell_type": "code",
   "execution_count": 58,
   "id": "28b73a7a",
   "metadata": {},
   "outputs": [
    {
     "data": {
      "image/png": "[encoded data removed]",
      "text/plain": [
       "<Figure size 1000x500 with 1 Axes>"
      ]
     },
     "metadata": {},
     "output_type": "display_data"
    }
   ],
   "source": [
    "all_tokens = [word for sublist in activity['tokenize_text'] for word in sublist.split()]\n",
    "fdist = FreqDist(all_tokens)\n",
    "plt.figure(figsize=(10, 5))\n",
    "fdist.plot(20, title='Top 20 Most Common Words')\n",
    "plt.show()"
   ]
  },
  {
   "cell_type": "code",
   "execution_count": 59,
   "id": "f940c3b3",
   "metadata": {},
   "outputs": [],
   "source": [
    "activity.to_csv('preprocessed.csv')"
   ]
  }
 ],
 "metadata": {
  "kernelspec": {
   "display_name": "Python 3 (ipykernel)",
   "language": "python",
   "name": "python3"
  },
  "language_info": {
   "codemirror_mode": {
    "name": "ipython",
    "version": 3
   },
   "file_extension": ".py",
   "mimetype": "text/x-python",
   "name": "python",
   "nbconvert_exporter": "python",
   "pygments_lexer": "ipython3",
   "version": "3.11.5"
  }
 },
 "nbformat": 4,
 "nbformat_minor": 5
}
