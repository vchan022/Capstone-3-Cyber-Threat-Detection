{
 "cells": [
  {
   "cell_type": "markdown",
   "id": "5fa6d461",
   "metadata": {},
   "source": [
    "# 04 Pre-processing"
   ]
  },
  {
   "cell_type": "code",
   "execution_count": 1,
   "id": "93fd3c41",
   "metadata": {},
   "outputs": [],
   "source": [
    "import numpy as np\n",
    "import pandas as pd\n",
    "import matplotlib.pyplot as plt\n",
    "import seaborn as sns\n",
    "from sklearn.model_selection import train_test_split\n",
    "from sklearn.pipeline import Pipeline\n",
    "from sklearn.feature_extraction.text import TfidfVectorizer\n",
    "from sklearn.naive_bayes import MultinomialNB, ComplementNB, GaussianNB, BernoulliNB\n",
    "from sklearn.svm import LinearSVC\n",
    "from sklearn.metrics import accuracy_score, classification_report, precision_score, recall_score, f1_score\n",
    "from sklearn.model_selection import GridSearchCV"
   ]
  },
  {
   "cell_type": "markdown",
   "id": "5cf49f1c",
   "metadata": {},
   "source": [
    "Load the data"
   ]
  },
  {
   "cell_type": "code",
   "execution_count": 2,
   "id": "07af189e",
   "metadata": {},
   "outputs": [],
   "source": [
    "activity = pd.read_csv('preprocessed.csv')"
   ]
  },
  {
   "cell_type": "code",
   "execution_count": 3,
   "id": "52560fbc",
   "metadata": {},
   "outputs": [
    {
     "data": {
      "text/html": [
       "<div>\n",
       "<style scoped>\n",
       "    .dataframe tbody tr th:only-of-type {\n",
       "        vertical-align: middle;\n",
       "    }\n",
       "\n",
       "    .dataframe tbody tr th {\n",
       "        vertical-align: top;\n",
       "    }\n",
       "\n",
       "    .dataframe thead th {\n",
       "        text-align: right;\n",
       "    }\n",
       "</style>\n",
       "<table border=\"1\" class=\"dataframe\">\n",
       "  <thead>\n",
       "    <tr style=\"text-align: right;\">\n",
       "      <th></th>\n",
       "      <th>Unnamed: 0</th>\n",
       "      <th>text</th>\n",
       "      <th>label</th>\n",
       "      <th>word_count</th>\n",
       "      <th>char_length</th>\n",
       "      <th>tokenize_text</th>\n",
       "    </tr>\n",
       "  </thead>\n",
       "  <tbody>\n",
       "    <tr>\n",
       "      <th>0</th>\n",
       "      <td>0</td>\n",
       "      <td>This post is also available in:      日本語 (Japa...</td>\n",
       "      <td>malware</td>\n",
       "      <td>55</td>\n",
       "      <td>354</td>\n",
       "      <td>post also available 日本語 japanese ctblocker wel...</td>\n",
       "    </tr>\n",
       "    <tr>\n",
       "      <th>1</th>\n",
       "      <td>1</td>\n",
       "      <td>The attack vector is very basic and repeats it...</td>\n",
       "      <td>attack-pattern</td>\n",
       "      <td>22</td>\n",
       "      <td>132</td>\n",
       "      <td>attack vector basic repeat begin spear phishin...</td>\n",
       "    </tr>\n",
       "    <tr>\n",
       "      <th>2</th>\n",
       "      <td>2</td>\n",
       "      <td>Once executed by the user the first stage malw...</td>\n",
       "      <td>safe</td>\n",
       "      <td>20</td>\n",
       "      <td>123</td>\n",
       "      <td>executed user first stage malware downloads ex...</td>\n",
       "    </tr>\n",
       "    <tr>\n",
       "      <th>3</th>\n",
       "      <td>3</td>\n",
       "      <td>The first known campaign was launched by Crim...</td>\n",
       "      <td>TIME</td>\n",
       "      <td>11</td>\n",
       "      <td>69</td>\n",
       "      <td>first known campaign launched crimeware november</td>\n",
       "    </tr>\n",
       "    <tr>\n",
       "      <th>4</th>\n",
       "      <td>4</td>\n",
       "      <td>The first stage downloaded the ransomware from...</td>\n",
       "      <td>safe</td>\n",
       "      <td>9</td>\n",
       "      <td>59</td>\n",
       "      <td>first stage downloaded ransomware site</td>\n",
       "    </tr>\n",
       "  </tbody>\n",
       "</table>\n",
       "</div>"
      ],
      "text/plain": [
       "   Unnamed: 0                                               text  \\\n",
       "0           0  This post is also available in:      日本語 (Japa...   \n",
       "1           1  The attack vector is very basic and repeats it...   \n",
       "2           2  Once executed by the user the first stage malw...   \n",
       "3           3   The first known campaign was launched by Crim...   \n",
       "4           4  The first stage downloaded the ransomware from...   \n",
       "\n",
       "            label  word_count  char_length  \\\n",
       "0         malware          55          354   \n",
       "1  attack-pattern          22          132   \n",
       "2            safe          20          123   \n",
       "3            TIME          11           69   \n",
       "4            safe           9           59   \n",
       "\n",
       "                                       tokenize_text  \n",
       "0  post also available 日本語 japanese ctblocker wel...  \n",
       "1  attack vector basic repeat begin spear phishin...  \n",
       "2  executed user first stage malware downloads ex...  \n",
       "3   first known campaign launched crimeware november  \n",
       "4             first stage downloaded ransomware site  "
      ]
     },
     "execution_count": 3,
     "metadata": {},
     "output_type": "execute_result"
    }
   ],
   "source": [
    "activity.head()"
   ]
  },
  {
   "cell_type": "markdown",
   "id": "085f1ef6",
   "metadata": {},
   "source": [
    "Drop the additional column container the indexes"
   ]
  },
  {
   "cell_type": "code",
   "execution_count": 4,
   "id": "17d4d288",
   "metadata": {},
   "outputs": [],
   "source": [
    "activity = activity.drop(activity.columns[0], axis=1)"
   ]
  },
  {
   "cell_type": "code",
   "execution_count": 5,
   "id": "c5a2a508",
   "metadata": {},
   "outputs": [
    {
     "data": {
      "text/html": [
       "<div>\n",
       "<style scoped>\n",
       "    .dataframe tbody tr th:only-of-type {\n",
       "        vertical-align: middle;\n",
       "    }\n",
       "\n",
       "    .dataframe tbody tr th {\n",
       "        vertical-align: top;\n",
       "    }\n",
       "\n",
       "    .dataframe thead th {\n",
       "        text-align: right;\n",
       "    }\n",
       "</style>\n",
       "<table border=\"1\" class=\"dataframe\">\n",
       "  <thead>\n",
       "    <tr style=\"text-align: right;\">\n",
       "      <th></th>\n",
       "      <th>text</th>\n",
       "      <th>label</th>\n",
       "      <th>word_count</th>\n",
       "      <th>char_length</th>\n",
       "      <th>tokenize_text</th>\n",
       "    </tr>\n",
       "  </thead>\n",
       "  <tbody>\n",
       "    <tr>\n",
       "      <th>0</th>\n",
       "      <td>This post is also available in:      日本語 (Japa...</td>\n",
       "      <td>malware</td>\n",
       "      <td>55</td>\n",
       "      <td>354</td>\n",
       "      <td>post also available 日本語 japanese ctblocker wel...</td>\n",
       "    </tr>\n",
       "    <tr>\n",
       "      <th>1</th>\n",
       "      <td>The attack vector is very basic and repeats it...</td>\n",
       "      <td>attack-pattern</td>\n",
       "      <td>22</td>\n",
       "      <td>132</td>\n",
       "      <td>attack vector basic repeat begin spear phishin...</td>\n",
       "    </tr>\n",
       "    <tr>\n",
       "      <th>2</th>\n",
       "      <td>Once executed by the user the first stage malw...</td>\n",
       "      <td>safe</td>\n",
       "      <td>20</td>\n",
       "      <td>123</td>\n",
       "      <td>executed user first stage malware downloads ex...</td>\n",
       "    </tr>\n",
       "    <tr>\n",
       "      <th>3</th>\n",
       "      <td>The first known campaign was launched by Crim...</td>\n",
       "      <td>TIME</td>\n",
       "      <td>11</td>\n",
       "      <td>69</td>\n",
       "      <td>first known campaign launched crimeware november</td>\n",
       "    </tr>\n",
       "    <tr>\n",
       "      <th>4</th>\n",
       "      <td>The first stage downloaded the ransomware from...</td>\n",
       "      <td>safe</td>\n",
       "      <td>9</td>\n",
       "      <td>59</td>\n",
       "      <td>first stage downloaded ransomware site</td>\n",
       "    </tr>\n",
       "  </tbody>\n",
       "</table>\n",
       "</div>"
      ],
      "text/plain": [
       "                                                text           label  \\\n",
       "0  This post is also available in:      日本語 (Japa...         malware   \n",
       "1  The attack vector is very basic and repeats it...  attack-pattern   \n",
       "2  Once executed by the user the first stage malw...            safe   \n",
       "3   The first known campaign was launched by Crim...            TIME   \n",
       "4  The first stage downloaded the ransomware from...            safe   \n",
       "\n",
       "   word_count  char_length                                      tokenize_text  \n",
       "0          55          354  post also available 日本語 japanese ctblocker wel...  \n",
       "1          22          132  attack vector basic repeat begin spear phishin...  \n",
       "2          20          123  executed user first stage malware downloads ex...  \n",
       "3          11           69   first known campaign launched crimeware november  \n",
       "4           9           59             first stage downloaded ransomware site  "
      ]
     },
     "execution_count": 5,
     "metadata": {},
     "output_type": "execute_result"
    }
   ],
   "source": [
    "activity.head()"
   ]
  },
  {
   "cell_type": "code",
   "execution_count": 6,
   "id": "214ee36e",
   "metadata": {},
   "outputs": [
    {
     "data": {
      "text/plain": [
       "safe              4140\n",
       "malware           1003\n",
       "location           711\n",
       "SOFTWARE           623\n",
       "attack-pattern     617\n",
       "identity           593\n",
       "threat-actor       466\n",
       "TIME               245\n",
       "tools              201\n",
       "FILEPATH           162\n",
       "vulnerability      135\n",
       "SHA2                80\n",
       "campaign            71\n",
       "URL                 65\n",
       "IPV4                31\n",
       "SHA1                30\n",
       "DOMAIN              25\n",
       "Infrastucture       24\n",
       "hash                13\n",
       "EMAIL               12\n",
       "REGISTRYKEY         10\n",
       "MD5                  8\n",
       "url                  4\n",
       "Name: label, dtype: int64"
      ]
     },
     "execution_count": 6,
     "metadata": {},
     "output_type": "execute_result"
    }
   ],
   "source": [
    "activity['label'].value_counts()"
   ]
  },
  {
   "cell_type": "code",
   "execution_count": 7,
   "id": "1f54201b",
   "metadata": {},
   "outputs": [
    {
     "data": {
      "text/plain": [
       "text               0\n",
       "label              0\n",
       "word_count         0\n",
       "char_length        0\n",
       "tokenize_text    369\n",
       "dtype: int64"
      ]
     },
     "execution_count": 7,
     "metadata": {},
     "output_type": "execute_result"
    }
   ],
   "source": [
    "activity.isna().sum()"
   ]
  },
  {
   "cell_type": "markdown",
   "id": "3169a615",
   "metadata": {},
   "source": [
    "Fill in the missing data with empty strings as a place holder for unknown data"
   ]
  },
  {
   "cell_type": "code",
   "execution_count": 8,
   "id": "16a0fff5",
   "metadata": {},
   "outputs": [],
   "source": [
    "activity = activity.fillna(\"\")"
   ]
  },
  {
   "cell_type": "code",
   "execution_count": 9,
   "id": "6a6a6cf7",
   "metadata": {},
   "outputs": [
    {
     "data": {
      "text/plain": [
       "text             0\n",
       "label            0\n",
       "word_count       0\n",
       "char_length      0\n",
       "tokenize_text    0\n",
       "dtype: int64"
      ]
     },
     "execution_count": 9,
     "metadata": {},
     "output_type": "execute_result"
    }
   ],
   "source": [
    "activity.isna().sum()"
   ]
  },
  {
   "cell_type": "markdown",
   "id": "2667f74f",
   "metadata": {},
   "source": [
    "Select the X and y data for our train_test_split"
   ]
  },
  {
   "cell_type": "code",
   "execution_count": 10,
   "id": "58211155",
   "metadata": {},
   "outputs": [
    {
     "data": {
      "text/plain": [
       "9269"
      ]
     },
     "execution_count": 10,
     "metadata": {},
     "output_type": "execute_result"
    }
   ],
   "source": [
    "X = activity['tokenize_text']\n",
    "y = activity['label']\n",
    "len(X)"
   ]
  },
  {
   "cell_type": "markdown",
   "id": "206777b8",
   "metadata": {},
   "source": [
    "Split the data into training and testing sets "
   ]
  },
  {
   "cell_type": "code",
   "execution_count": 11,
   "id": "aa14dc6d",
   "metadata": {},
   "outputs": [],
   "source": [
    "X_train, X_test, y_train, y_test = train_test_split(X, y, test_size=0.2, random_state=42)"
   ]
  },
  {
   "cell_type": "code",
   "execution_count": 12,
   "id": "a9f60fae",
   "metadata": {},
   "outputs": [
    {
     "data": {
      "text/plain": [
       "7415"
      ]
     },
     "execution_count": 12,
     "metadata": {},
     "output_type": "execute_result"
    }
   ],
   "source": [
    "len(X_train)"
   ]
  },
  {
   "cell_type": "markdown",
   "id": "2e809a82",
   "metadata": {},
   "source": [
    "# 05 Modeling"
   ]
  },
  {
   "cell_type": "markdown",
   "id": "346bc564",
   "metadata": {},
   "source": [
    "Setting up pipelines for different text classifiers and TF-IDF vectorization"
   ]
  },
  {
   "cell_type": "code",
   "execution_count": 13,
   "id": "38566ed0",
   "metadata": {},
   "outputs": [],
   "source": [
    "pipeMNB = Pipeline([('tfidf', TfidfVectorizer()),('clf', MultinomialNB())])\n",
    "pipeCNB = Pipeline([('tfidf', TfidfVectorizer()),('clf', ComplementNB())])\n",
    "pipeSVC = Pipeline([('tfidf', TfidfVectorizer()),('clf', LinearSVC())])\n",
    "pipeBNB = Pipeline([('tfidf', TfidfVectorizer()),('clf', BernoulliNB())])"
   ]
  },
  {
   "cell_type": "markdown",
   "id": "492f08f2",
   "metadata": {},
   "source": [
    "### MultinomialNB"
   ]
  },
  {
   "cell_type": "code",
   "execution_count": 14,
   "id": "7668e38e",
   "metadata": {},
   "outputs": [
    {
     "data": {
      "text/plain": [
       "array(['safe', 'safe', 'safe', ..., 'safe', 'safe', 'safe'], dtype='<U14')"
      ]
     },
     "execution_count": 14,
     "metadata": {},
     "output_type": "execute_result"
    }
   ],
   "source": [
    "pipeMNB.fit(X_train, y_train)\n",
    "predMNB = pipeMNB.predict(X_test)\n",
    "predMNB"
   ]
  },
  {
   "cell_type": "code",
   "execution_count": 15,
   "id": "a375e9a6",
   "metadata": {},
   "outputs": [
    {
     "name": "stdout",
     "output_type": "stream",
     "text": [
      "MNB Accuracy Score: 0.46\n"
     ]
    }
   ],
   "source": [
    "MNB_accuracy = accuracy_score(y_test, predMNB)\n",
    "print(f\"MNB Accuracy Score: {accuracy_score(y_test, predMNB) :.2f}\")"
   ]
  },
  {
   "cell_type": "code",
   "execution_count": 16,
   "id": "111d75fe",
   "metadata": {},
   "outputs": [
    {
     "name": "stdout",
     "output_type": "stream",
     "text": [
      "MNB Precision Score: 0.16\n"
     ]
    },
    {
     "name": "stderr",
     "output_type": "stream",
     "text": [
      "C:\\Users\\veron\\anaconda3\\Lib\\site-packages\\sklearn\\metrics\\_classification.py:1469: UndefinedMetricWarning: Precision is ill-defined and being set to 0.0 in labels with no predicted samples. Use `zero_division` parameter to control this behavior.\n",
      "  _warn_prf(average, modifier, msg_start, len(result))\n",
      "C:\\Users\\veron\\anaconda3\\Lib\\site-packages\\sklearn\\metrics\\_classification.py:1469: UndefinedMetricWarning: Precision is ill-defined and being set to 0.0 in labels with no predicted samples. Use `zero_division` parameter to control this behavior.\n",
      "  _warn_prf(average, modifier, msg_start, len(result))\n"
     ]
    }
   ],
   "source": [
    "MNB_precision = precision_score(y_test, predMNB, average='macro')\n",
    "print(f\"MNB Precision Score: {precision_score(y_test, predMNB, average='macro') :.2f}\")"
   ]
  },
  {
   "cell_type": "code",
   "execution_count": 17,
   "id": "7a37b14f",
   "metadata": {},
   "outputs": [
    {
     "name": "stdout",
     "output_type": "stream",
     "text": [
      "MNB Recall Score: 0.05\n"
     ]
    }
   ],
   "source": [
    "MNB_recall = recall_score(y_test, predMNB, average='macro')\n",
    "print(f\"MNB Recall Score: {recall_score(y_test, predMNB, average='macro') :.2f}\")"
   ]
  },
  {
   "cell_type": "code",
   "execution_count": 18,
   "id": "d3cdcb62",
   "metadata": {},
   "outputs": [
    {
     "name": "stdout",
     "output_type": "stream",
     "text": [
      "MNB F1 Score: 0.05\n"
     ]
    }
   ],
   "source": [
    "MNB_f1 = f1_score(y_test, predMNB, average='macro')\n",
    "print(f\"MNB F1 Score: {f1_score(y_test, predMNB, average='macro') :.2f}\")"
   ]
  },
  {
   "cell_type": "code",
   "execution_count": 19,
   "id": "966928ab",
   "metadata": {},
   "outputs": [
    {
     "name": "stdout",
     "output_type": "stream",
     "text": [
      "                precision    recall  f1-score   support\n",
      "\n",
      "        DOMAIN       0.00      0.00      0.00         4\n",
      "         EMAIL       0.00      0.00      0.00         3\n",
      "      FILEPATH       0.00      0.00      0.00        36\n",
      "          IPV4       0.00      0.00      0.00         4\n",
      " Infrastucture       0.00      0.00      0.00         6\n",
      "           MD5       0.00      0.00      0.00         1\n",
      "   REGISTRYKEY       0.00      0.00      0.00         2\n",
      "          SHA1       0.00      0.00      0.00         9\n",
      "          SHA2       0.00      0.00      0.00        15\n",
      "      SOFTWARE       0.00      0.00      0.00       125\n",
      "          TIME       0.00      0.00      0.00        47\n",
      "           URL       0.00      0.00      0.00        18\n",
      "attack-pattern       0.75      0.02      0.04       134\n",
      "      campaign       0.00      0.00      0.00        13\n",
      "          hash       0.00      0.00      0.00         4\n",
      "      identity       0.67      0.04      0.07       112\n",
      "      location       0.45      0.03      0.06       144\n",
      "       malware       0.85      0.12      0.20       189\n",
      "          safe       0.45      1.00      0.62       811\n",
      "  threat-actor       0.60      0.03      0.06        99\n",
      "         tools       0.00      0.00      0.00        49\n",
      "           url       0.00      0.00      0.00         2\n",
      " vulnerability       0.00      0.00      0.00        27\n",
      "\n",
      "      accuracy                           0.46      1854\n",
      "     macro avg       0.16      0.05      0.05      1854\n",
      "  weighted avg       0.44      0.46      0.31      1854\n",
      "\n"
     ]
    },
    {
     "name": "stderr",
     "output_type": "stream",
     "text": [
      "C:\\Users\\veron\\anaconda3\\Lib\\site-packages\\sklearn\\metrics\\_classification.py:1469: UndefinedMetricWarning: Precision and F-score are ill-defined and being set to 0.0 in labels with no predicted samples. Use `zero_division` parameter to control this behavior.\n",
      "  _warn_prf(average, modifier, msg_start, len(result))\n",
      "C:\\Users\\veron\\anaconda3\\Lib\\site-packages\\sklearn\\metrics\\_classification.py:1469: UndefinedMetricWarning: Precision and F-score are ill-defined and being set to 0.0 in labels with no predicted samples. Use `zero_division` parameter to control this behavior.\n",
      "  _warn_prf(average, modifier, msg_start, len(result))\n",
      "C:\\Users\\veron\\anaconda3\\Lib\\site-packages\\sklearn\\metrics\\_classification.py:1469: UndefinedMetricWarning: Precision and F-score are ill-defined and being set to 0.0 in labels with no predicted samples. Use `zero_division` parameter to control this behavior.\n",
      "  _warn_prf(average, modifier, msg_start, len(result))\n"
     ]
    }
   ],
   "source": [
    "print(classification_report(y_test, predMNB))"
   ]
  },
  {
   "cell_type": "markdown",
   "id": "6d520f33",
   "metadata": {},
   "source": [
    "### ComplementNB"
   ]
  },
  {
   "cell_type": "code",
   "execution_count": 20,
   "id": "cea7a29b",
   "metadata": {},
   "outputs": [
    {
     "data": {
      "text/plain": [
       "array(['safe', 'safe', 'attack-pattern', ..., 'safe', 'TIME', 'safe'],\n",
       "      dtype='<U14')"
      ]
     },
     "execution_count": 20,
     "metadata": {},
     "output_type": "execute_result"
    }
   ],
   "source": [
    "pipeCNB.fit(X_train, y_train)\n",
    "predCNB = pipeCNB.predict(X_test)\n",
    "predCNB"
   ]
  },
  {
   "cell_type": "code",
   "execution_count": 21,
   "id": "e9528172",
   "metadata": {},
   "outputs": [
    {
     "name": "stdout",
     "output_type": "stream",
     "text": [
      "CNB Accuracy Score: 0.57\n"
     ]
    }
   ],
   "source": [
    "CNB_accuracy = accuracy_score(y_test, predCNB)\n",
    "print(f\"CNB Accuracy Score: {accuracy_score(y_test, predCNB) :.2f}\")"
   ]
  },
  {
   "cell_type": "code",
   "execution_count": 22,
   "id": "3bb8f104",
   "metadata": {},
   "outputs": [
    {
     "name": "stdout",
     "output_type": "stream",
     "text": [
      "CNB Precision Score: 0.42\n"
     ]
    },
    {
     "name": "stderr",
     "output_type": "stream",
     "text": [
      "C:\\Users\\veron\\anaconda3\\Lib\\site-packages\\sklearn\\metrics\\_classification.py:1469: UndefinedMetricWarning: Precision is ill-defined and being set to 0.0 in labels with no predicted samples. Use `zero_division` parameter to control this behavior.\n",
      "  _warn_prf(average, modifier, msg_start, len(result))\n",
      "C:\\Users\\veron\\anaconda3\\Lib\\site-packages\\sklearn\\metrics\\_classification.py:1469: UndefinedMetricWarning: Precision is ill-defined and being set to 0.0 in labels with no predicted samples. Use `zero_division` parameter to control this behavior.\n",
      "  _warn_prf(average, modifier, msg_start, len(result))\n"
     ]
    }
   ],
   "source": [
    "CNB_precision = precision_score(y_test, predCNB, average='macro')\n",
    "print(f\"CNB Precision Score: {precision_score(y_test, predCNB, average='macro') :.2f}\")"
   ]
  },
  {
   "cell_type": "code",
   "execution_count": 23,
   "id": "b2e5f754",
   "metadata": {},
   "outputs": [
    {
     "name": "stdout",
     "output_type": "stream",
     "text": [
      "CNB Recall Score: 0.28\n"
     ]
    }
   ],
   "source": [
    "CNB_recall = recall_score(y_test, predCNB, average='macro')\n",
    "print(f\"CNB Recall Score: {recall_score(y_test, predCNB, average='macro') :.2f}\")"
   ]
  },
  {
   "cell_type": "code",
   "execution_count": 24,
   "id": "289d1938",
   "metadata": {},
   "outputs": [
    {
     "name": "stdout",
     "output_type": "stream",
     "text": [
      "CNB F1 Score: 0.31\n"
     ]
    }
   ],
   "source": [
    "CNB_f1 = f1_score(y_test, predCNB, average='macro')\n",
    "print(f\"CNB F1 Score: {f1_score(y_test, predCNB, average='macro') :.2f}\")"
   ]
  },
  {
   "cell_type": "code",
   "execution_count": 25,
   "id": "88be3442",
   "metadata": {},
   "outputs": [
    {
     "name": "stdout",
     "output_type": "stream",
     "text": [
      "                precision    recall  f1-score   support\n",
      "\n",
      "        DOMAIN       0.01      0.25      0.02         4\n",
      "         EMAIL       1.00      0.33      0.50         3\n",
      "      FILEPATH       0.46      0.17      0.24        36\n",
      "          IPV4       0.00      0.00      0.00         4\n",
      " Infrastucture       0.67      0.33      0.44         6\n",
      "           MD5       0.00      0.00      0.00         1\n",
      "   REGISTRYKEY       0.00      0.00      0.00         2\n",
      "          SHA1       0.50      0.11      0.18         9\n",
      "          SHA2       0.50      0.20      0.29        15\n",
      "      SOFTWARE       0.50      0.33      0.40       125\n",
      "          TIME       0.43      0.26      0.32        47\n",
      "           URL       0.75      0.17      0.27        18\n",
      "attack-pattern       0.49      0.43      0.46       134\n",
      "      campaign       0.25      0.08      0.12        13\n",
      "          hash       0.00      0.00      0.00         4\n",
      "      identity       0.49      0.52      0.50       112\n",
      "      location       0.50      0.41      0.45       144\n",
      "       malware       0.62      0.61      0.61       189\n",
      "          safe       0.66      0.76      0.70       811\n",
      "  threat-actor       0.57      0.61      0.59        99\n",
      "         tools       0.59      0.27      0.37        49\n",
      "           url       0.00      0.00      0.00         2\n",
      " vulnerability       0.61      0.52      0.56        27\n",
      "\n",
      "      accuracy                           0.57      1854\n",
      "     macro avg       0.42      0.28      0.31      1854\n",
      "  weighted avg       0.58      0.57      0.57      1854\n",
      "\n"
     ]
    },
    {
     "name": "stderr",
     "output_type": "stream",
     "text": [
      "C:\\Users\\veron\\anaconda3\\Lib\\site-packages\\sklearn\\metrics\\_classification.py:1469: UndefinedMetricWarning: Precision and F-score are ill-defined and being set to 0.0 in labels with no predicted samples. Use `zero_division` parameter to control this behavior.\n",
      "  _warn_prf(average, modifier, msg_start, len(result))\n",
      "C:\\Users\\veron\\anaconda3\\Lib\\site-packages\\sklearn\\metrics\\_classification.py:1469: UndefinedMetricWarning: Precision and F-score are ill-defined and being set to 0.0 in labels with no predicted samples. Use `zero_division` parameter to control this behavior.\n",
      "  _warn_prf(average, modifier, msg_start, len(result))\n",
      "C:\\Users\\veron\\anaconda3\\Lib\\site-packages\\sklearn\\metrics\\_classification.py:1469: UndefinedMetricWarning: Precision and F-score are ill-defined and being set to 0.0 in labels with no predicted samples. Use `zero_division` parameter to control this behavior.\n",
      "  _warn_prf(average, modifier, msg_start, len(result))\n"
     ]
    }
   ],
   "source": [
    "print(classification_report(y_test, predCNB))"
   ]
  },
  {
   "cell_type": "markdown",
   "id": "e4c0a5f3",
   "metadata": {},
   "source": [
    "### LinearSVC"
   ]
  },
  {
   "cell_type": "code",
   "execution_count": 26,
   "id": "c12adf79",
   "metadata": {},
   "outputs": [
    {
     "name": "stderr",
     "output_type": "stream",
     "text": [
      "C:\\Users\\veron\\anaconda3\\Lib\\site-packages\\sklearn\\svm\\_classes.py:32: FutureWarning: The default value of `dual` will change from `True` to `'auto'` in 1.5. Set the value of `dual` explicitly to suppress the warning.\n",
      "  warnings.warn(\n"
     ]
    },
    {
     "data": {
      "text/plain": [
       "array(['safe', 'safe', 'attack-pattern', ..., 'safe', 'TIME', 'safe'],\n",
       "      dtype='<U14')"
      ]
     },
     "execution_count": 26,
     "metadata": {},
     "output_type": "execute_result"
    }
   ],
   "source": [
    "pipeSVC.fit(X_train, y_train)\n",
    "predSVC = pipeCNB.predict(X_test)\n",
    "predSVC"
   ]
  },
  {
   "cell_type": "code",
   "execution_count": 27,
   "id": "43fdd9e0",
   "metadata": {},
   "outputs": [
    {
     "name": "stdout",
     "output_type": "stream",
     "text": [
      "SVC Accuracy Score: 0.57\n"
     ]
    }
   ],
   "source": [
    "SVC_accuracy = accuracy_score(y_test, predSVC)\n",
    "print(f\"SVC Accuracy Score: {accuracy_score(y_test, predSVC) :.2f}\")"
   ]
  },
  {
   "cell_type": "code",
   "execution_count": 28,
   "id": "49de1b03",
   "metadata": {},
   "outputs": [
    {
     "name": "stdout",
     "output_type": "stream",
     "text": [
      "SVC Precision Score: 0.42\n"
     ]
    },
    {
     "name": "stderr",
     "output_type": "stream",
     "text": [
      "C:\\Users\\veron\\anaconda3\\Lib\\site-packages\\sklearn\\metrics\\_classification.py:1469: UndefinedMetricWarning: Precision is ill-defined and being set to 0.0 in labels with no predicted samples. Use `zero_division` parameter to control this behavior.\n",
      "  _warn_prf(average, modifier, msg_start, len(result))\n",
      "C:\\Users\\veron\\anaconda3\\Lib\\site-packages\\sklearn\\metrics\\_classification.py:1469: UndefinedMetricWarning: Precision is ill-defined and being set to 0.0 in labels with no predicted samples. Use `zero_division` parameter to control this behavior.\n",
      "  _warn_prf(average, modifier, msg_start, len(result))\n"
     ]
    }
   ],
   "source": [
    "SVC_precision = precision_score(y_test, predSVC, average='macro')\n",
    "print(f\"SVC Precision Score: {precision_score(y_test, predSVC, average='macro') :.2f}\")"
   ]
  },
  {
   "cell_type": "code",
   "execution_count": 29,
   "id": "4f0b189e",
   "metadata": {},
   "outputs": [
    {
     "name": "stdout",
     "output_type": "stream",
     "text": [
      "SVC Recall Score: 0.28\n"
     ]
    }
   ],
   "source": [
    "SVC_recall = recall_score(y_test, predSVC, average='macro')\n",
    "print(f\"SVC Recall Score: {recall_score(y_test, predSVC, average='macro') :.2f}\")"
   ]
  },
  {
   "cell_type": "code",
   "execution_count": 30,
   "id": "a46e61ca",
   "metadata": {},
   "outputs": [
    {
     "name": "stdout",
     "output_type": "stream",
     "text": [
      "SVC F1 Score: 0.31\n"
     ]
    }
   ],
   "source": [
    "SVC_f1 = f1_score(y_test, predSVC, average='macro')\n",
    "print(f\"SVC F1 Score: {f1_score(y_test, predSVC, average='macro') :.2f}\")"
   ]
  },
  {
   "cell_type": "code",
   "execution_count": 31,
   "id": "a9fcc92e",
   "metadata": {},
   "outputs": [
    {
     "name": "stdout",
     "output_type": "stream",
     "text": [
      "                precision    recall  f1-score   support\n",
      "\n",
      "        DOMAIN       0.01      0.25      0.02         4\n",
      "         EMAIL       1.00      0.33      0.50         3\n",
      "      FILEPATH       0.46      0.17      0.24        36\n",
      "          IPV4       0.00      0.00      0.00         4\n",
      " Infrastucture       0.67      0.33      0.44         6\n",
      "           MD5       0.00      0.00      0.00         1\n",
      "   REGISTRYKEY       0.00      0.00      0.00         2\n",
      "          SHA1       0.50      0.11      0.18         9\n",
      "          SHA2       0.50      0.20      0.29        15\n",
      "      SOFTWARE       0.50      0.33      0.40       125\n",
      "          TIME       0.43      0.26      0.32        47\n",
      "           URL       0.75      0.17      0.27        18\n",
      "attack-pattern       0.49      0.43      0.46       134\n",
      "      campaign       0.25      0.08      0.12        13\n",
      "          hash       0.00      0.00      0.00         4\n",
      "      identity       0.49      0.52      0.50       112\n",
      "      location       0.50      0.41      0.45       144\n",
      "       malware       0.62      0.61      0.61       189\n",
      "          safe       0.66      0.76      0.70       811\n",
      "  threat-actor       0.57      0.61      0.59        99\n",
      "         tools       0.59      0.27      0.37        49\n",
      "           url       0.00      0.00      0.00         2\n",
      " vulnerability       0.61      0.52      0.56        27\n",
      "\n",
      "      accuracy                           0.57      1854\n",
      "     macro avg       0.42      0.28      0.31      1854\n",
      "  weighted avg       0.58      0.57      0.57      1854\n",
      "\n"
     ]
    },
    {
     "name": "stderr",
     "output_type": "stream",
     "text": [
      "C:\\Users\\veron\\anaconda3\\Lib\\site-packages\\sklearn\\metrics\\_classification.py:1469: UndefinedMetricWarning: Precision and F-score are ill-defined and being set to 0.0 in labels with no predicted samples. Use `zero_division` parameter to control this behavior.\n",
      "  _warn_prf(average, modifier, msg_start, len(result))\n",
      "C:\\Users\\veron\\anaconda3\\Lib\\site-packages\\sklearn\\metrics\\_classification.py:1469: UndefinedMetricWarning: Precision and F-score are ill-defined and being set to 0.0 in labels with no predicted samples. Use `zero_division` parameter to control this behavior.\n",
      "  _warn_prf(average, modifier, msg_start, len(result))\n",
      "C:\\Users\\veron\\anaconda3\\Lib\\site-packages\\sklearn\\metrics\\_classification.py:1469: UndefinedMetricWarning: Precision and F-score are ill-defined and being set to 0.0 in labels with no predicted samples. Use `zero_division` parameter to control this behavior.\n",
      "  _warn_prf(average, modifier, msg_start, len(result))\n"
     ]
    }
   ],
   "source": [
    "print(classification_report(y_test, predSVC))"
   ]
  },
  {
   "cell_type": "markdown",
   "id": "dad86d45",
   "metadata": {},
   "source": [
    "### BernoulliNB"
   ]
  },
  {
   "cell_type": "code",
   "execution_count": 32,
   "id": "beb8c68a",
   "metadata": {},
   "outputs": [
    {
     "data": {
      "text/plain": [
       "array(['safe', 'safe', 'safe', ..., 'safe', 'safe', 'safe'], dtype='<U14')"
      ]
     },
     "execution_count": 32,
     "metadata": {},
     "output_type": "execute_result"
    }
   ],
   "source": [
    "pipeBNB.fit(X_train, y_train)\n",
    "predBNB = pipeBNB.predict(X_test)\n",
    "predBNB"
   ]
  },
  {
   "cell_type": "code",
   "execution_count": 33,
   "id": "9788b1f9",
   "metadata": {},
   "outputs": [
    {
     "name": "stdout",
     "output_type": "stream",
     "text": [
      "BNB Accuracy Score: 0.52\n"
     ]
    }
   ],
   "source": [
    "BNB_accuracy = accuracy_score(y_test, predBNB)\n",
    "print(f\"BNB Accuracy Score: {accuracy_score(y_test, predBNB) :.2f}\")"
   ]
  },
  {
   "cell_type": "code",
   "execution_count": 34,
   "id": "eab8f2c8",
   "metadata": {},
   "outputs": [
    {
     "name": "stdout",
     "output_type": "stream",
     "text": [
      "BNB Precision Score: 0.18\n"
     ]
    },
    {
     "name": "stderr",
     "output_type": "stream",
     "text": [
      "C:\\Users\\veron\\anaconda3\\Lib\\site-packages\\sklearn\\metrics\\_classification.py:1469: UndefinedMetricWarning: Precision is ill-defined and being set to 0.0 in labels with no predicted samples. Use `zero_division` parameter to control this behavior.\n",
      "  _warn_prf(average, modifier, msg_start, len(result))\n",
      "C:\\Users\\veron\\anaconda3\\Lib\\site-packages\\sklearn\\metrics\\_classification.py:1469: UndefinedMetricWarning: Precision is ill-defined and being set to 0.0 in labels with no predicted samples. Use `zero_division` parameter to control this behavior.\n",
      "  _warn_prf(average, modifier, msg_start, len(result))\n"
     ]
    }
   ],
   "source": [
    "BNB_precision = precision_score(y_test, predBNB, average='macro')\n",
    "print(f\"BNB Precision Score: {precision_score(y_test, predBNB, average='macro') :.2f}\")"
   ]
  },
  {
   "cell_type": "code",
   "execution_count": 35,
   "id": "d1c12874",
   "metadata": {},
   "outputs": [
    {
     "name": "stdout",
     "output_type": "stream",
     "text": [
      "BNB Recall Score: 0.09\n"
     ]
    }
   ],
   "source": [
    "BNB_recall = recall_score(y_test, predBNB, average='macro')\n",
    "print(f\"BNB Recall Score: {recall_score(y_test, predBNB, average='macro') :.2f}\")"
   ]
  },
  {
   "cell_type": "code",
   "execution_count": 36,
   "id": "78b69d95",
   "metadata": {},
   "outputs": [
    {
     "name": "stdout",
     "output_type": "stream",
     "text": [
      "BNB F1 Score: 0.10\n"
     ]
    }
   ],
   "source": [
    "BNB_f1 = f1_score(y_test, predBNB, average='macro')\n",
    "print(f\"BNB F1 Score: {f1_score(y_test, predBNB, average='macro') :.2f}\")"
   ]
  },
  {
   "cell_type": "code",
   "execution_count": 37,
   "id": "f552f845",
   "metadata": {},
   "outputs": [
    {
     "name": "stdout",
     "output_type": "stream",
     "text": [
      "                precision    recall  f1-score   support\n",
      "\n",
      "        DOMAIN       0.00      0.00      0.00         4\n",
      "         EMAIL       0.00      0.00      0.00         3\n",
      "      FILEPATH       0.00      0.00      0.00        36\n",
      "          IPV4       0.00      0.00      0.00         4\n",
      " Infrastucture       0.00      0.00      0.00         6\n",
      "           MD5       0.00      0.00      0.00         1\n",
      "   REGISTRYKEY       0.00      0.00      0.00         2\n",
      "          SHA1       0.00      0.00      0.00         9\n",
      "          SHA2       0.00      0.00      0.00        15\n",
      "      SOFTWARE       0.45      0.08      0.14       125\n",
      "          TIME       0.00      0.00      0.00        47\n",
      "           URL       0.00      0.00      0.00        18\n",
      "attack-pattern       0.66      0.16      0.25       134\n",
      "      campaign       0.00      0.00      0.00        13\n",
      "          hash       0.00      0.00      0.00         4\n",
      "      identity       0.51      0.21      0.30       112\n",
      "      location       0.62      0.24      0.35       144\n",
      "       malware       0.53      0.29      0.37       189\n",
      "          safe       0.51      0.99      0.67       811\n",
      "  threat-actor       0.75      0.12      0.21        99\n",
      "         tools       0.00      0.00      0.00        49\n",
      "           url       0.00      0.00      0.00         2\n",
      " vulnerability       0.00      0.00      0.00        27\n",
      "\n",
      "      accuracy                           0.52      1854\n",
      "     macro avg       0.18      0.09      0.10      1854\n",
      "  weighted avg       0.47      0.52      0.42      1854\n",
      "\n"
     ]
    },
    {
     "name": "stderr",
     "output_type": "stream",
     "text": [
      "C:\\Users\\veron\\anaconda3\\Lib\\site-packages\\sklearn\\metrics\\_classification.py:1469: UndefinedMetricWarning: Precision and F-score are ill-defined and being set to 0.0 in labels with no predicted samples. Use `zero_division` parameter to control this behavior.\n",
      "  _warn_prf(average, modifier, msg_start, len(result))\n",
      "C:\\Users\\veron\\anaconda3\\Lib\\site-packages\\sklearn\\metrics\\_classification.py:1469: UndefinedMetricWarning: Precision and F-score are ill-defined and being set to 0.0 in labels with no predicted samples. Use `zero_division` parameter to control this behavior.\n",
      "  _warn_prf(average, modifier, msg_start, len(result))\n",
      "C:\\Users\\veron\\anaconda3\\Lib\\site-packages\\sklearn\\metrics\\_classification.py:1469: UndefinedMetricWarning: Precision and F-score are ill-defined and being set to 0.0 in labels with no predicted samples. Use `zero_division` parameter to control this behavior.\n",
      "  _warn_prf(average, modifier, msg_start, len(result))\n"
     ]
    }
   ],
   "source": [
    "print(classification_report(y_test, predBNB))"
   ]
  },
  {
   "cell_type": "code",
   "execution_count": 38,
   "id": "3b6683bf",
   "metadata": {},
   "outputs": [
    {
     "name": "stdout",
     "output_type": "stream",
     "text": [
      "      Classifier  Accuracy score  Precision_score  Recall_score  F1_score\n",
      "0  MultinomialNB        0.456311         0.163753      0.053785  0.045972\n",
      "1   ComplementNB        0.573894         0.417448      0.275638  0.305906\n",
      "2      LinearSVC        0.573894         0.417448      0.275638  0.305906\n",
      "3    BernoulliNB        0.516721         0.175381      0.090865  0.099648\n"
     ]
    }
   ],
   "source": [
    "myLabels = ['MultinomialNB', 'ComplementNB', 'LinearSVC', 'BernoulliNB']\n",
    "Accuracy_score = [MNB_accuracy, CNB_accuracy, SVC_accuracy, BNB_accuracy]\n",
    "Precision_score = [MNB_precision, CNB_precision, SVC_precision, BNB_precision]\n",
    "Recall_score = [MNB_recall, CNB_recall, SVC_recall, BNB_recall]\n",
    "F1_score = [MNB_f1, CNB_f1, SVC_f1, BNB_f1]\n",
    "\n",
    "score_tab_acc = pd.DataFrame(list(zip(myLabels, Accuracy_score, Precision_score, Recall_score, F1_score)), \n",
    "                             columns=['Classifier', 'Accuracy score', 'Precision_score', 'Recall_score', 'F1_score'])\n",
    "\n",
    "print(score_tab_acc)"
   ]
  },
  {
   "cell_type": "code",
   "execution_count": 39,
   "id": "51149f7c",
   "metadata": {},
   "outputs": [
    {
     "data": {
      "image/png": "[encoded data removed]",
      "text/plain": [
       "<Figure size 1200x600 with 1 Axes>"
      ]
     },
     "metadata": {},
     "output_type": "display_data"
    }
   ],
   "source": [
    "bar_width = 0.20\n",
    "r1 = np.arange(len(myLabels))\n",
    "r2 = [x + bar_width for x in r1]\n",
    "r3 = [x + bar_width for x in r2]\n",
    "r4 = [x + bar_width for x in r3]\n",
    "plt.figure(figsize=(12, 6))\n",
    "plt.bar(r1, Accuracy_score, color='pink', width=bar_width, edgecolor='k', alpha=0.8, label='Accuracy Score')\n",
    "plt.bar(r2, Precision_score, color='skyblue', width=bar_width, edgecolor='k', alpha=0.8, label='Precision Score')\n",
    "plt.bar(r3, Recall_score, color='lightgreen', width=bar_width, edgecolor='k', alpha=0.8, label='Recall Score')\n",
    "plt.bar(r4, F1_score, color='beige', width=bar_width, edgecolor='k', alpha=0.8, label='F1 Score')\n",
    "plt.xlabel('Classifiers', fontsize=15)\n",
    "plt.ylabel('Scores', fontsize=15)\n",
    "plt.title('Comparison of Scores', fontsize=15)\n",
    "plt.xticks([r + bar_width/2 for r in range(len(myLabels))], myLabels, rotation=45, ha='right')\n",
    "plt.legend()\n",
    "plt.tight_layout()\n",
    "plt.show()"
   ]
  },
  {
   "cell_type": "markdown",
   "id": "5d28813a",
   "metadata": {},
   "source": [
    "* MultinomialNB: Lowest accuracy, precision, recall, and F1-score\n",
    "* ComplementNB & LinearSVC: Identical accuracy, precision, recall and F1-score\n",
    "* BernoulliNB: Slightly lower accuracy but comparable precision, recall, and F1-score to ComplementNB and LinearSVC\n",
    "\n",
    "Overall, ComplementNB and LinearSVC performed the best."
   ]
  },
  {
   "cell_type": "markdown",
   "id": "545b1c8b",
   "metadata": {},
   "source": [
    "#### Hyperparameter Tuning"
   ]
  },
  {
   "cell_type": "code",
   "execution_count": 40,
   "id": "20278fd2",
   "metadata": {},
   "outputs": [
    {
     "name": "stderr",
     "output_type": "stream",
     "text": [
      "C:\\Users\\veron\\anaconda3\\Lib\\site-packages\\sklearn\\model_selection\\_split.py:725: UserWarning: The least populated class in y has only 2 members, which is less than n_splits=5.\n",
      "  warnings.warn(\n"
     ]
    },
    {
     "name": "stdout",
     "output_type": "stream",
     "text": [
      "Best hyperparameters: {'clf__alpha': 0.5, 'tfidf__max_df': 0.5, 'tfidf__ngram_range': (1, 3)}\n",
      "Best cross-validation score: 0.575590020229265\n",
      "Test set score: 0.6019417475728155\n"
     ]
    }
   ],
   "source": [
    "param_grid = {\n",
    "    'tfidf__max_df': [0.5, 0.75, 1.0],\n",
    "    'tfidf__ngram_range': [(1, 1), (1, 2), (1, 3)],\n",
    "    'clf__alpha': [0.1, 0.5, 1.0],\n",
    "}\n",
    "\n",
    "grid_CNB = GridSearchCV(pipeCNB, param_grid, cv=5, scoring='accuracy')\n",
    "grid_CNB.fit(X_train, y_train)\n",
    "best_params_CNB = grid_CNB.best_params_\n",
    "best_score_CNB = grid_CNB.best_score_\n",
    "best_model_CNB = grid_CNB.best_estimator_\n",
    "best_model_CNB.fit(X_train, y_train)\n",
    "test_score_CNB = best_model_CNB.score(X_test, y_test)\n",
    "print(\"Best hyperparameters:\", best_params_CNB)\n",
    "print(\"Best cross-validation score:\", best_score_CNB)\n",
    "print(\"Test set score:\", test_score_CNB)"
   ]
  },
  {
   "cell_type": "code",
   "execution_count": 41,
   "id": "48703b6c",
   "metadata": {},
   "outputs": [],
   "source": [
    "predictions_CNB = best_model_CNB.predict(X_test)"
   ]
  },
  {
   "cell_type": "code",
   "execution_count": 42,
   "id": "9eb3824d",
   "metadata": {},
   "outputs": [
    {
     "name": "stdout",
     "output_type": "stream",
     "text": [
      "CNB Accuracy Score: 0.60\n"
     ]
    }
   ],
   "source": [
    "CNB_accuracy = accuracy_score(y_test, predictions_CNB)\n",
    "print(f\"CNB Accuracy Score: {accuracy_score(y_test, predictions_CNB) :.2f}\")"
   ]
  },
  {
   "cell_type": "code",
   "execution_count": 43,
   "id": "0982aa29",
   "metadata": {},
   "outputs": [
    {
     "name": "stdout",
     "output_type": "stream",
     "text": [
      "CNB Precision Score: 0.49\n"
     ]
    },
    {
     "name": "stderr",
     "output_type": "stream",
     "text": [
      "C:\\Users\\veron\\anaconda3\\Lib\\site-packages\\sklearn\\metrics\\_classification.py:1469: UndefinedMetricWarning: Precision is ill-defined and being set to 0.0 in labels with no predicted samples. Use `zero_division` parameter to control this behavior.\n",
      "  _warn_prf(average, modifier, msg_start, len(result))\n",
      "C:\\Users\\veron\\anaconda3\\Lib\\site-packages\\sklearn\\metrics\\_classification.py:1469: UndefinedMetricWarning: Precision is ill-defined and being set to 0.0 in labels with no predicted samples. Use `zero_division` parameter to control this behavior.\n",
      "  _warn_prf(average, modifier, msg_start, len(result))\n"
     ]
    }
   ],
   "source": [
    "CNB_precision = precision_score(y_test, predictions_CNB, average='macro')\n",
    "print(f\"CNB Precision Score: {precision_score(y_test, predictions_CNB, average='macro') :.2f}\")"
   ]
  },
  {
   "cell_type": "code",
   "execution_count": 44,
   "id": "244ab38b",
   "metadata": {},
   "outputs": [
    {
     "name": "stdout",
     "output_type": "stream",
     "text": [
      "CNB Recall Score: 0.32\n"
     ]
    }
   ],
   "source": [
    "CNB_recall = recall_score(y_test, predictions_CNB, average='macro')\n",
    "print(f\"CNB Recall Score: {recall_score(y_test, predictions_CNB, average='macro') :.2f}\")"
   ]
  },
  {
   "cell_type": "code",
   "execution_count": 45,
   "id": "bb51cf69",
   "metadata": {},
   "outputs": [
    {
     "name": "stdout",
     "output_type": "stream",
     "text": [
      "CNB F1 Score: 0.36\n"
     ]
    }
   ],
   "source": [
    "CNB_f1 = f1_score(y_test, predictions_CNB, average='macro')\n",
    "print(f\"CNB F1 Score: {f1_score(y_test, predictions_CNB, average='macro') :.2f}\")"
   ]
  },
  {
   "cell_type": "code",
   "execution_count": 46,
   "id": "6b286976",
   "metadata": {},
   "outputs": [
    {
     "name": "stdout",
     "output_type": "stream",
     "text": [
      "                precision    recall  f1-score   support\n",
      "\n",
      "        DOMAIN       0.01      0.25      0.02         4\n",
      "         EMAIL       1.00      0.33      0.50         3\n",
      "      FILEPATH       0.67      0.17      0.27        36\n",
      "          IPV4       0.00      0.00      0.00         4\n",
      " Infrastucture       1.00      0.67      0.80         6\n",
      "           MD5       0.00      0.00      0.00         1\n",
      "   REGISTRYKEY       0.00      0.00      0.00         2\n",
      "          SHA1       0.00      0.00      0.00         9\n",
      "          SHA2       0.50      0.20      0.29        15\n",
      "      SOFTWARE       0.55      0.25      0.34       125\n",
      "          TIME       0.63      0.26      0.36        47\n",
      "           URL       0.86      0.33      0.48        18\n",
      "attack-pattern       0.62      0.49      0.55       134\n",
      "      campaign       0.80      0.62      0.70        13\n",
      "          hash       0.00      0.00      0.00         4\n",
      "      identity       0.59      0.52      0.55       112\n",
      "      location       0.63      0.41      0.50       144\n",
      "       malware       0.71      0.53      0.61       189\n",
      "          safe       0.62      0.84      0.71       811\n",
      "  threat-actor       0.67      0.47      0.56        99\n",
      "         tools       0.62      0.31      0.41        49\n",
      "           url       0.00      0.00      0.00         2\n",
      " vulnerability       0.81      0.63      0.71        27\n",
      "\n",
      "      accuracy                           0.60      1854\n",
      "     macro avg       0.49      0.32      0.36      1854\n",
      "  weighted avg       0.63      0.60      0.59      1854\n",
      "\n"
     ]
    },
    {
     "name": "stderr",
     "output_type": "stream",
     "text": [
      "C:\\Users\\veron\\anaconda3\\Lib\\site-packages\\sklearn\\metrics\\_classification.py:1469: UndefinedMetricWarning: Precision and F-score are ill-defined and being set to 0.0 in labels with no predicted samples. Use `zero_division` parameter to control this behavior.\n",
      "  _warn_prf(average, modifier, msg_start, len(result))\n",
      "C:\\Users\\veron\\anaconda3\\Lib\\site-packages\\sklearn\\metrics\\_classification.py:1469: UndefinedMetricWarning: Precision and F-score are ill-defined and being set to 0.0 in labels with no predicted samples. Use `zero_division` parameter to control this behavior.\n",
      "  _warn_prf(average, modifier, msg_start, len(result))\n",
      "C:\\Users\\veron\\anaconda3\\Lib\\site-packages\\sklearn\\metrics\\_classification.py:1469: UndefinedMetricWarning: Precision and F-score are ill-defined and being set to 0.0 in labels with no predicted samples. Use `zero_division` parameter to control this behavior.\n",
      "  _warn_prf(average, modifier, msg_start, len(result))\n"
     ]
    }
   ],
   "source": [
    "print(classification_report(y_test, predictions_CNB))"
   ]
  },
  {
   "cell_type": "markdown",
   "id": "f5e1cc1c",
   "metadata": {},
   "source": [
    "It seems hyperparameter tuning improved the accuracy for ComplementNB"
   ]
  },
  {
   "cell_type": "code",
   "execution_count": 47,
   "id": "f976f743",
   "metadata": {},
   "outputs": [
    {
     "name": "stderr",
     "output_type": "stream",
     "text": [
      "C:\\Users\\veron\\anaconda3\\Lib\\site-packages\\sklearn\\model_selection\\_split.py:725: UserWarning: The least populated class in y has only 2 members, which is less than n_splits=5.\n",
      "  warnings.warn(\n"
     ]
    },
    {
     "name": "stdout",
     "output_type": "stream",
     "text": [
      "Best hyperparameters: {'clf__C': 0.5, 'clf__dual': True, 'tfidf__max_df': 0.5, 'tfidf__ngram_range': (1, 1)}\n",
      "Best cross-validation score: 0.6298044504383007\n",
      "Test set score: 0.6499460625674218\n"
     ]
    }
   ],
   "source": [
    "param_grid = {\n",
    "    'tfidf__max_df': [0.5, 0.75, 1.0],\n",
    "    'tfidf__ngram_range': [(1, 1), (1, 2), (1, 3)],\n",
    "    'clf__C': [0.1, 0.5, 1.0],\n",
    "    'clf__dual': [True, False]\n",
    "}\n",
    "\n",
    "grid_SVC = GridSearchCV(pipeSVC, param_grid, cv=5, scoring='accuracy')\n",
    "grid_SVC.fit(X_train, y_train)\n",
    "best_params_SVC = grid_SVC.best_params_\n",
    "best_score_SVC = grid_SVC.best_score_\n",
    "best_model_SVC = grid_SVC.best_estimator_\n",
    "best_model_SVC.fit(X_train, y_train)\n",
    "test_score_SVC = best_model_SVC.score(X_test, y_test)\n",
    "print(\"Best hyperparameters:\", best_params_SVC)\n",
    "print(\"Best cross-validation score:\", best_score_SVC)\n",
    "print(\"Test set score:\", test_score_SVC)"
   ]
  },
  {
   "cell_type": "code",
   "execution_count": 48,
   "id": "7f55a7ff",
   "metadata": {},
   "outputs": [],
   "source": [
    "predictions_SVC = best_model_SVC.predict(X_test)"
   ]
  },
  {
   "cell_type": "code",
   "execution_count": 49,
   "id": "e7de99f5",
   "metadata": {},
   "outputs": [
    {
     "name": "stdout",
     "output_type": "stream",
     "text": [
      "SVC Accuracy Score: 0.65\n"
     ]
    }
   ],
   "source": [
    "SVC_accuracy = accuracy_score(y_test, predictions_SVC)\n",
    "print(f\"SVC Accuracy Score: {accuracy_score(y_test, predictions_SVC) :.2f}\")"
   ]
  },
  {
   "cell_type": "code",
   "execution_count": 50,
   "id": "15599c21",
   "metadata": {},
   "outputs": [
    {
     "name": "stdout",
     "output_type": "stream",
     "text": [
      "SVC Precision Score: 0.47\n"
     ]
    },
    {
     "name": "stderr",
     "output_type": "stream",
     "text": [
      "C:\\Users\\veron\\anaconda3\\Lib\\site-packages\\sklearn\\metrics\\_classification.py:1469: UndefinedMetricWarning: Precision is ill-defined and being set to 0.0 in labels with no predicted samples. Use `zero_division` parameter to control this behavior.\n",
      "  _warn_prf(average, modifier, msg_start, len(result))\n",
      "C:\\Users\\veron\\anaconda3\\Lib\\site-packages\\sklearn\\metrics\\_classification.py:1469: UndefinedMetricWarning: Precision is ill-defined and being set to 0.0 in labels with no predicted samples. Use `zero_division` parameter to control this behavior.\n",
      "  _warn_prf(average, modifier, msg_start, len(result))\n"
     ]
    }
   ],
   "source": [
    "SVC_precision = precision_score(y_test, predictions_SVC, average='macro')\n",
    "print(f\"SVC Precision Score: {precision_score(y_test, predictions_SVC, average='macro') :.2f}\")"
   ]
  },
  {
   "cell_type": "code",
   "execution_count": 51,
   "id": "3054fb2a",
   "metadata": {},
   "outputs": [
    {
     "name": "stdout",
     "output_type": "stream",
     "text": [
      "SVC Recall Score: 0.30\n"
     ]
    }
   ],
   "source": [
    "SVC_recall = recall_score(y_test, predictions_SVC, average='macro')\n",
    "print(f\"SVC Recall Score: {recall_score(y_test, predictions_SVC, average='macro') :.2f}\")"
   ]
  },
  {
   "cell_type": "code",
   "execution_count": 52,
   "id": "cb4221a5",
   "metadata": {},
   "outputs": [
    {
     "name": "stdout",
     "output_type": "stream",
     "text": [
      "SVC F1 Score: 0.34\n"
     ]
    }
   ],
   "source": [
    "SVC_f1 = f1_score(y_test, predictions_SVC, average='macro')\n",
    "print(f\"SVC F1 Score: {f1_score(y_test, predictions_SVC, average='macro') :.2f}\")"
   ]
  },
  {
   "cell_type": "code",
   "execution_count": 53,
   "id": "c3f7db3c",
   "metadata": {},
   "outputs": [
    {
     "name": "stdout",
     "output_type": "stream",
     "text": [
      "                precision    recall  f1-score   support\n",
      "\n",
      "        DOMAIN       0.00      0.00      0.00         4\n",
      "         EMAIL       1.00      0.33      0.50         3\n",
      "      FILEPATH       0.62      0.14      0.23        36\n",
      "          IPV4       0.00      0.00      0.00         4\n",
      " Infrastucture       1.00      0.67      0.80         6\n",
      "           MD5       0.00      0.00      0.00         1\n",
      "   REGISTRYKEY       0.00      0.00      0.00         2\n",
      "          SHA1       0.00      0.00      0.00         9\n",
      "          SHA2       0.00      0.00      0.00        15\n",
      "      SOFTWARE       0.60      0.37      0.46       125\n",
      "          TIME       0.63      0.26      0.36        47\n",
      "           URL       1.00      0.22      0.36        18\n",
      "attack-pattern       0.60      0.53      0.56       134\n",
      "      campaign       0.67      0.46      0.55        13\n",
      "          hash       0.00      0.00      0.00         4\n",
      "      identity       0.55      0.46      0.50       112\n",
      "      location       0.62      0.38      0.47       144\n",
      "       malware       0.71      0.60      0.65       189\n",
      "          safe       0.66      0.92      0.77       811\n",
      "  threat-actor       0.74      0.58      0.65        99\n",
      "         tools       0.59      0.27      0.37        49\n",
      "           url       0.00      0.00      0.00         2\n",
      " vulnerability       0.71      0.63      0.67        27\n",
      "\n",
      "      accuracy                           0.65      1854\n",
      "     macro avg       0.47      0.30      0.34      1854\n",
      "  weighted avg       0.64      0.65      0.62      1854\n",
      "\n"
     ]
    },
    {
     "name": "stderr",
     "output_type": "stream",
     "text": [
      "C:\\Users\\veron\\anaconda3\\Lib\\site-packages\\sklearn\\metrics\\_classification.py:1469: UndefinedMetricWarning: Precision and F-score are ill-defined and being set to 0.0 in labels with no predicted samples. Use `zero_division` parameter to control this behavior.\n",
      "  _warn_prf(average, modifier, msg_start, len(result))\n",
      "C:\\Users\\veron\\anaconda3\\Lib\\site-packages\\sklearn\\metrics\\_classification.py:1469: UndefinedMetricWarning: Precision and F-score are ill-defined and being set to 0.0 in labels with no predicted samples. Use `zero_division` parameter to control this behavior.\n",
      "  _warn_prf(average, modifier, msg_start, len(result))\n",
      "C:\\Users\\veron\\anaconda3\\Lib\\site-packages\\sklearn\\metrics\\_classification.py:1469: UndefinedMetricWarning: Precision and F-score are ill-defined and being set to 0.0 in labels with no predicted samples. Use `zero_division` parameter to control this behavior.\n",
      "  _warn_prf(average, modifier, msg_start, len(result))\n"
     ]
    }
   ],
   "source": [
    "print(classification_report(y_test, predictions_SVC))"
   ]
  },
  {
   "cell_type": "markdown",
   "id": "c1d39091",
   "metadata": {},
   "source": [
    "It seems hyperparameter tuning improved the accuracy for LinearSVC as well"
   ]
  },
  {
   "cell_type": "code",
   "execution_count": 54,
   "id": "039244a6",
   "metadata": {},
   "outputs": [
    {
     "name": "stdout",
     "output_type": "stream",
     "text": [
      "      Classifier  Accuracy score  Precision_score  Recall_score  F1_score\n",
      "0  MultinomialNB        0.456311         0.163753      0.053785  0.045972\n",
      "1   ComplementNB        0.601942         0.491096      0.316059  0.363008\n",
      "2      LinearSVC        0.649946         0.465031      0.296269  0.343107\n",
      "3    BernoulliNB        0.516721         0.175381      0.090865  0.099648\n"
     ]
    }
   ],
   "source": [
    "myLabels = ['MultinomialNB', 'ComplementNB', 'LinearSVC', 'BernoulliNB']\n",
    "Accuracy_score = [MNB_accuracy, CNB_accuracy, SVC_accuracy, BNB_accuracy]\n",
    "Precision_score = [MNB_precision, CNB_precision, SVC_precision, BNB_precision]\n",
    "Recall_score = [MNB_recall, CNB_recall, SVC_recall, BNB_recall]\n",
    "F1_score = [MNB_f1, CNB_f1, SVC_f1, BNB_f1]\n",
    "\n",
    "score_tab_acc = pd.DataFrame(list(zip(myLabels, Accuracy_score, Precision_score, Recall_score, F1_score)), \n",
    "                             columns=['Classifier', 'Accuracy score', 'Precision_score', 'Recall_score', 'F1_score'])\n",
    "\n",
    "print(score_tab_acc)"
   ]
  },
  {
   "cell_type": "code",
   "execution_count": 55,
   "id": "73a8fec1",
   "metadata": {},
   "outputs": [
    {
     "data": {
      "image/png": "[encoded data removed]",
      "text/plain": [
       "<Figure size 1200x600 with 1 Axes>"
      ]
     },
     "metadata": {},
     "output_type": "display_data"
    }
   ],
   "source": [
    "bar_width = 0.20\n",
    "r1 = np.arange(len(myLabels))\n",
    "r2 = [x + bar_width for x in r1]\n",
    "r3 = [x + bar_width for x in r2]\n",
    "r4 = [x + bar_width for x in r3]\n",
    "plt.figure(figsize=(12, 6))\n",
    "plt.bar(r1, Accuracy_score, color='pink', width=bar_width, edgecolor='k', alpha=0.8, label='Accuracy Score')\n",
    "plt.bar(r2, Precision_score, color='skyblue', width=bar_width, edgecolor='k', alpha=0.8, label='Precision Score')\n",
    "plt.bar(r3, Recall_score, color='lightgreen', width=bar_width, edgecolor='k', alpha=0.8, label='Recall Score')\n",
    "plt.bar(r4, F1_score, color='beige', width=bar_width, edgecolor='k', alpha=0.8, label='F1 Score')\n",
    "plt.xlabel('Classifiers', fontsize=15)\n",
    "plt.ylabel('Scores', fontsize=15)\n",
    "plt.title('Comparison of Scores', fontsize=15)\n",
    "plt.xticks([r + bar_width/2 for r in range(len(myLabels))], myLabels, rotation=45, ha='right')\n",
    "plt.legend()\n",
    "plt.tight_layout()\n",
    "plt.show()"
   ]
  },
  {
   "cell_type": "markdown",
   "id": "c65ecd9c",
   "metadata": {},
   "source": [
    "* LinearSVC: Highest accuracy score and precision score overall\n",
    "* Complement NB: Highest precision score but lower accuracy score than LinearSVC\n",
    "* CernoulliNB: Lowest scores overall\n",
    "\n",
    "LinearSVC seems to perform the best"
   ]
  },
  {
   "cell_type": "markdown",
   "id": "580289d3",
   "metadata": {},
   "source": [
    "Testing the model to see if it can predict using new data"
   ]
  },
  {
   "cell_type": "code",
   "execution_count": 56,
   "id": "cc04cf26",
   "metadata": {},
   "outputs": [
    {
     "name": "stderr",
     "output_type": "stream",
     "text": [
      "[nltk_data] Downloading package punkt to\n",
      "[nltk_data]     C:\\Users\\veron\\AppData\\Roaming\\nltk_data...\n",
      "[nltk_data]   Package punkt is already up-to-date!\n",
      "[nltk_data] Downloading package stopwords to\n",
      "[nltk_data]     C:\\Users\\veron\\AppData\\Roaming\\nltk_data...\n",
      "[nltk_data]   Package stopwords is already up-to-date!\n",
      "[nltk_data] Downloading package wordnet to\n",
      "[nltk_data]     C:\\Users\\veron\\AppData\\Roaming\\nltk_data...\n",
      "[nltk_data]   Package wordnet is already up-to-date!\n"
     ]
    },
    {
     "data": {
      "text/plain": [
       "True"
      ]
     },
     "execution_count": 56,
     "metadata": {},
     "output_type": "execute_result"
    }
   ],
   "source": [
    "import nltk \n",
    "import string\n",
    "import re\n",
    "import langid\n",
    "from nltk.stem import WordNetLemmatizer\n",
    "from nltk.corpus import stopwords\n",
    "from nltk.tokenize import word_tokenize\n",
    "from nltk.stem import WordNetLemmatizer\n",
    "nltk.download('punkt')\n",
    "nltk.download('stopwords')\n",
    "nltk.download('wordnet')"
   ]
  },
  {
   "cell_type": "code",
   "execution_count": 57,
   "id": "fc31aec1",
   "metadata": {},
   "outputs": [
    {
     "name": "stdout",
     "output_type": "stream",
     "text": [
      "Preprocessed data: maikspy window platform figure\n"
     ]
    }
   ],
   "source": [
    "def tokenize_text(text):\n",
    "    text = re.sub(r'[\\[\\](){}<>]', '', text)\n",
    "    text = re.sub(r'\\d+', '', text)\n",
    "    text = re.sub(r'[^\\w\\s]', '', text)\n",
    "    text = text.lower()\n",
    "    \n",
    "    lang, _ = langid.classify(text)\n",
    "    \n",
    "    if lang == 'en':\n",
    "        tokens = word_tokenize(text)\n",
    "        stop_words = set(stopwords.words('english'))\n",
    "        punctuations = set(string.punctuation)\n",
    "\n",
    "        filtered_tokens = [word for word in tokens if word.lower() not in stop_words and word not in punctuations]\n",
    "        lemmatizer = WordNetLemmatizer()\n",
    "        lemmatized_tokens = [lemmatizer.lemmatize(word) for word in filtered_tokens]\n",
    "        tokenize_text = ' '.join(lemmatized_tokens)\n",
    "        return tokenize_text\n",
    "    else:\n",
    "        return ''\n",
    "\n",
    "new_data = \"Maikspy on the Windows platform Figure 7.\"\n",
    "#This is malware\n",
    "\n",
    "preprocessed_data = tokenize_text(new_data)\n",
    "print(\"Preprocessed data:\", preprocessed_data)"
   ]
  },
  {
   "cell_type": "code",
   "execution_count": 58,
   "id": "a5415134",
   "metadata": {},
   "outputs": [
    {
     "data": {
      "text/plain": [
       "array(['malware'], dtype=object)"
      ]
     },
     "execution_count": 58,
     "metadata": {},
     "output_type": "execute_result"
    }
   ],
   "source": [
    "predictions = best_model_SVC.predict([preprocessed_data])\n",
    "predictions"
   ]
  },
  {
   "cell_type": "code",
   "execution_count": 59,
   "id": "852ddd0a",
   "metadata": {},
   "outputs": [
    {
     "name": "stdout",
     "output_type": "stream",
     "text": [
      "Preprocessed data: hand fin performs hooking\n"
     ]
    }
   ],
   "source": [
    "new_data2 = \"On the other hand, FIN7 performs hooking.\"\n",
    "#This is attack-pattern\n",
    "\n",
    "preprocessed_data2 = tokenize_text(new_data2)\n",
    "print(\"Preprocessed data:\", preprocessed_data2)"
   ]
  },
  {
   "cell_type": "code",
   "execution_count": 60,
   "id": "7f47c105",
   "metadata": {},
   "outputs": [
    {
     "data": {
      "text/plain": [
       "array(['attack-pattern'], dtype=object)"
      ]
     },
     "execution_count": 60,
     "metadata": {},
     "output_type": "execute_result"
    }
   ],
   "source": [
    "predictions2 = best_model_SVC.predict([preprocessed_data2])\n",
    "predictions2"
   ]
  },
  {
   "cell_type": "markdown",
   "id": "a036702d",
   "metadata": {},
   "source": [
    "The model has successfully predicted the correct label for each text"
   ]
  }
 ],
 "metadata": {
  "kernelspec": {
   "display_name": "Python 3 (ipykernel)",
   "language": "python",
   "name": "python3"
  },
  "language_info": {
   "codemirror_mode": {
    "name": "ipython",
    "version": 3
   },
   "file_extension": ".py",
   "mimetype": "text/x-python",
   "name": "python",
   "nbconvert_exporter": "python",
   "pygments_lexer": "ipython3",
   "version": "3.11.5"
  }
 },
 "nbformat": 4,
 "nbformat_minor": 5
}
